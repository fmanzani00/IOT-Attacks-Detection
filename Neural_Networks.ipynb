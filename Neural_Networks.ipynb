{
  "nbformat": 4,
  "nbformat_minor": 0,
  "metadata": {
    "colab": {
      "provenance": [],
      "collapsed_sections": [
        "4a68BYORwI2b"
      ],
      "gpuType": "T4"
    },
    "kernelspec": {
      "name": "python3",
      "display_name": "Python 3"
    },
    "language_info": {
      "name": "python"
    },
    "accelerator": "GPU"
  },
  "cells": [
    {
      "cell_type": "code",
      "source": [
        "import os\n",
        "import datetime\n",
        "\n",
        "import IPython\n",
        "import IPython.display\n",
        "import matplotlib as mpl\n",
        "import matplotlib.pyplot as plt\n",
        "import numpy as np\n",
        "import pandas as pd\n",
        "import seaborn as sns\n",
        "import tensorflow as tf\n",
        "\n",
        "# ACF\n",
        "from statsmodels.graphics.tsaplots import plot_acf\n",
        "from statsmodels.tsa.seasonal import seasonal_decompose\n",
        "\n",
        "# Dickey-Fuller test\n",
        "from statsmodels.tsa.stattools import adfuller\n",
        "\n",
        "# Information gain\n",
        "from sklearn.feature_selection import mutual_info_classif"
      ],
      "metadata": {
        "id": "r-9nadlfSFW3"
      },
      "execution_count": null,
      "outputs": []
    },
    {
      "cell_type": "code",
      "source": [
        "df = pd.read_csv(\"data-channel-1.csv\")"
      ],
      "metadata": {
        "id": "2JJJZNaUWttn"
      },
      "execution_count": null,
      "outputs": []
    },
    {
      "cell_type": "markdown",
      "source": [
        "#ACF: the autocorrelation function\n"
      ],
      "metadata": {
        "id": "A0fO-QE0XCMz"
      }
    },
    {
      "cell_type": "code",
      "source": [
        "attacks = df[\"Attacks\"].astype('float')\n",
        "plot_acf(attacks)"
      ],
      "metadata": {
        "id": "mvIcj5VhXCjf"
      },
      "execution_count": null,
      "outputs": []
    },
    {
      "cell_type": "code",
      "source": [
        "X = df\n",
        "y = X['Attacks']\n",
        "X.drop(['Attacks'], axis=1, inplace=True)"
      ],
      "metadata": {
        "id": "2tmpvB4hbsCG"
      },
      "execution_count": null,
      "outputs": []
    },
    {
      "cell_type": "code",
      "source": [
        " df.columns[0:len(df.columns)]"
      ],
      "metadata": {
        "colab": {
          "base_uri": "https://localhost:8080/"
        },
        "id": "1rFqdy8ic71o",
        "outputId": "fec3c20e-d695-4d71-fe1b-a30edfde6d94"
      },
      "execution_count": null,
      "outputs": [
        {
          "output_type": "execute_result",
          "data": {
            "text/plain": [
              "Index(['Time', 'Power'], dtype='object')"
            ]
          },
          "metadata": {},
          "execution_count": 32
        }
      ]
    },
    {
      "cell_type": "code",
      "source": [
        "importances = mutual_info_classif(X, y)\n",
        "feat_importances = pd.Series(importances, df.columns[0:len(df.columns)])\n",
        "feat_importances.plot(kind='barh', color='teal')\n",
        "plt.show()"
      ],
      "metadata": {
        "colab": {
          "base_uri": "https://localhost:8080/",
          "height": 476
        },
        "id": "ocXDHe9UZfzf",
        "outputId": "9bdb0d3d-f3ac-4fcd-9f0d-3a01825c056f"
      },
      "execution_count": null,
      "outputs": [
        {
          "output_type": "display_data",
          "data": {
            "text/plain": [
              "<Figure size 800x600 with 1 Axes>"
            ],
            "image/png": "[encoded data removed]"
          },
          "metadata": {}
        }
      ]
    },
    {
      "cell_type": "code",
      "source": [
        "adf, pval, usedlag, nobs, crit_vals, icbest =  adfuller(attacks)\n",
        "print('ADF test statistic:', adf)\n",
        "print('ADF p-values:', pval)\n",
        "print('ADF number of lags used:', usedlag)\n",
        "print('ADF number of observations:', nobs)\n",
        "print('ADF critical values:', crit_vals)\n",
        "print('ADF best information criterion:', icbest)"
      ],
      "metadata": {
        "id": "fINMDKqQa0oj"
      },
      "execution_count": null,
      "outputs": []
    },
    {
      "cell_type": "markdown",
      "source": [
        "# RNN"
      ],
      "metadata": {
        "id": "82DKJxqMck3p"
      }
    },
    {
      "cell_type": "markdown",
      "source": [
        "## Selección de caracteristicas"
      ],
      "metadata": {
        "id": "wti8q834DwXS"
      }
    },
    {
      "cell_type": "code",
      "source": [
        "import tensorflow as tf\n",
        "import pandas as pd\n",
        "import numpy as np\n",
        "import matplotlib.pyplot as plt\n",
        "from sklearn.model_selection import train_test_split\n",
        "from sklearn.preprocessing import StandardScaler\n",
        "from tensorflow import keras\n",
        "from tensorflow.keras.models import Sequential\n",
        "from tensorflow.keras.layers import Embedding, LSTM, Dense, Dropout\n",
        "from sklearn.feature_selection import chi2 # Calidad de las características\n",
        "from sklearn.feature_selection import VarianceThreshold # Analizar caracterisitcas constates usando la varianza de los datos"
      ],
      "metadata": {
        "id": "tJ6CUCGChCHW"
      },
      "execution_count": null,
      "outputs": []
    },
    {
      "cell_type": "code",
      "source": [
        "df = pd.read_csv(\"S1_balanced.csv\")"
      ],
      "metadata": {
        "id": "5YD341-GcsvG"
      },
      "execution_count": null,
      "outputs": []
    },
    {
      "cell_type": "code",
      "source": [
        "df.info()"
      ],
      "metadata": {
        "colab": {
          "base_uri": "https://localhost:8080/"
        },
        "id": "nKBblp0adv5S",
        "outputId": "8ca48320-e2d5-46a0-930f-73c94de76167"
      },
      "execution_count": null,
      "outputs": [
        {
          "output_type": "stream",
          "name": "stdout",
          "text": [
            "<class 'pandas.core.frame.DataFrame'>\n",
            "RangeIndex: 319440 entries, 0 to 319439\n",
            "Data columns (total 10 columns):\n",
            " #   Column                               Non-Null Count   Dtype  \n",
            "---  ------                               --------------   -----  \n",
            " 0   Index                                5324 non-null    float64\n",
            " 1   Time                                 5324 non-null    float64\n",
            " 2   Attacks                              5324 non-null    float64\n",
            " 3   Power                                319440 non-null  float64\n",
            " 4   Count tcp W=15.0s                    319440 non-null  float64\n",
            " 5   Count tcp.flags.syn == 1 W=15.0s In  319440 non-null  float64\n",
            " 6   Count tcp.flags.reset == 1 W=15.0s   319440 non-null  float64\n",
            " 7   Average frame.len W=15.0s            277495 non-null  float64\n",
            " 8   Distinct tcp.srcport W=15.0s In      319440 non-null  float64\n",
            " 9   Percent ssh W=15.0s                  277495 non-null  float64\n",
            "dtypes: float64(10)\n",
            "memory usage: 24.4 MB\n"
          ]
        }
      ]
    },
    {
      "cell_type": "code",
      "source": [
        "df_filtered = df.dropna()\n",
        "df_filtered.head(5)"
      ],
      "metadata": {
        "colab": {
          "base_uri": "https://localhost:8080/",
          "height": 224
        },
        "id": "hMMGZ9_fPAnl",
        "outputId": "1b584522-5130-4329-acfc-3b62d462cc9f"
      },
      "execution_count": null,
      "outputs": [
        {
          "output_type": "execute_result",
          "data": {
            "text/plain": [
              "     Index          Time  Attacks   Power  Count tcp W=15.0s  \\\n",
              "59     1.0  1.700639e+12      0.0  317.36               25.0   \n",
              "119    2.0  1.700639e+12      0.0  305.52               25.0   \n",
              "179    3.0  1.700639e+12      0.0  303.60               25.0   \n",
              "239    4.0  1.700639e+12      0.0  325.28               25.0   \n",
              "299    5.0  1.700639e+12      0.0  382.96               25.0   \n",
              "\n",
              "     Count tcp.flags.syn == 1 W=15.0s In  Count tcp.flags.reset == 1 W=15.0s  \\\n",
              "59                                   0.0                                 0.0   \n",
              "119                                  0.0                                 0.0   \n",
              "179                                  0.0                                 0.0   \n",
              "239                                  0.0                                 0.0   \n",
              "299                                  0.0                                 0.0   \n",
              "\n",
              "     Average frame.len W=15.0s  Distinct tcp.srcport W=15.0s In  \\\n",
              "59                      109.84                              1.0   \n",
              "119                     109.84                              1.0   \n",
              "179                     109.84                              1.0   \n",
              "239                     109.84                              1.0   \n",
              "299                     109.84                              1.0   \n",
              "\n",
              "     Percent ssh W=15.0s  \n",
              "59                  0.64  \n",
              "119                 0.64  \n",
              "179                 0.64  \n",
              "239                 0.64  \n",
              "299                 0.64  "
            ],
            "text/html": [
              "\n",
              "  <div id=\"df-76feeff5-11f9-4422-a4a5-fda85503c0f7\" class=\"colab-df-container\">\n",
              "    <div>\n",
              "<style scoped>\n",
              "    .dataframe tbody tr th:only-of-type {\n",
              "        vertical-align: middle;\n",
              "    }\n",
              "\n",
              "    .dataframe tbody tr th {\n",
              "        vertical-align: top;\n",
              "    }\n",
              "\n",
              "    .dataframe thead th {\n",
              "        text-align: right;\n",
              "    }\n",
              "</style>\n",
              "<table border=\"1\" class=\"dataframe\">\n",
              "  <thead>\n",
              "    <tr style=\"text-align: right;\">\n",
              "      <th></th>\n",
              "      <th>Index</th>\n",
              "      <th>Time</th>\n",
              "      <th>Attacks</th>\n",
              "      <th>Power</th>\n",
              "      <th>Count tcp W=15.0s</th>\n",
              "      <th>Count tcp.flags.syn == 1 W=15.0s In</th>\n",
              "      <th>Count tcp.flags.reset == 1 W=15.0s</th>\n",
              "      <th>Average frame.len W=15.0s</th>\n",
              "      <th>Distinct tcp.srcport W=15.0s In</th>\n",
              "      <th>Percent ssh W=15.0s</th>\n",
              "    </tr>\n",
              "  </thead>\n",
              "  <tbody>\n",
              "    <tr>\n",
              "      <th>59</th>\n",
              "      <td>1.0</td>\n",
              "      <td>1.700639e+12</td>\n",
              "      <td>0.0</td>\n",
              "      <td>317.36</td>\n",
              "      <td>25.0</td>\n",
              "      <td>0.0</td>\n",
              "      <td>0.0</td>\n",
              "      <td>109.84</td>\n",
              "      <td>1.0</td>\n",
              "      <td>0.64</td>\n",
              "    </tr>\n",
              "    <tr>\n",
              "      <th>119</th>\n",
              "      <td>2.0</td>\n",
              "      <td>1.700639e+12</td>\n",
              "      <td>0.0</td>\n",
              "      <td>305.52</td>\n",
              "      <td>25.0</td>\n",
              "      <td>0.0</td>\n",
              "      <td>0.0</td>\n",
              "      <td>109.84</td>\n",
              "      <td>1.0</td>\n",
              "      <td>0.64</td>\n",
              "    </tr>\n",
              "    <tr>\n",
              "      <th>179</th>\n",
              "      <td>3.0</td>\n",
              "      <td>1.700639e+12</td>\n",
              "      <td>0.0</td>\n",
              "      <td>303.60</td>\n",
              "      <td>25.0</td>\n",
              "      <td>0.0</td>\n",
              "      <td>0.0</td>\n",
              "      <td>109.84</td>\n",
              "      <td>1.0</td>\n",
              "      <td>0.64</td>\n",
              "    </tr>\n",
              "    <tr>\n",
              "      <th>239</th>\n",
              "      <td>4.0</td>\n",
              "      <td>1.700639e+12</td>\n",
              "      <td>0.0</td>\n",
              "      <td>325.28</td>\n",
              "      <td>25.0</td>\n",
              "      <td>0.0</td>\n",
              "      <td>0.0</td>\n",
              "      <td>109.84</td>\n",
              "      <td>1.0</td>\n",
              "      <td>0.64</td>\n",
              "    </tr>\n",
              "    <tr>\n",
              "      <th>299</th>\n",
              "      <td>5.0</td>\n",
              "      <td>1.700639e+12</td>\n",
              "      <td>0.0</td>\n",
              "      <td>382.96</td>\n",
              "      <td>25.0</td>\n",
              "      <td>0.0</td>\n",
              "      <td>0.0</td>\n",
              "      <td>109.84</td>\n",
              "      <td>1.0</td>\n",
              "      <td>0.64</td>\n",
              "    </tr>\n",
              "  </tbody>\n",
              "</table>\n",
              "</div>\n",
              "    <div class=\"colab-df-buttons\">\n",
              "\n",
              "  <div class=\"colab-df-container\">\n",
              "    <button class=\"colab-df-convert\" onclick=\"convertToInteractive('df-76feeff5-11f9-4422-a4a5-fda85503c0f7')\"\n",
              "            title=\"Convert this dataframe to an interactive table.\"\n",
              "            style=\"display:none;\">\n",
              "\n",
              "  <svg xmlns=\"http://www.w3.org/2000/svg\" height=\"24px\" viewBox=\"0 -960 960 960\">\n",
              "    <path d=\"M120-120v-720h720v720H120Zm60-500h600v-160H180v160Zm220 220h160v-160H400v160Zm0 220h160v-160H400v160ZM180-400h160v-160H180v160Zm440 0h160v-160H620v160ZM180-180h160v-160H180v160Zm440 0h160v-160H620v160Z\"/>\n",
              "  </svg>\n",
              "    </button>\n",
              "\n",
              "  <style>\n",
              "    .colab-df-container {\n",
              "      display:flex;\n",
              "      gap: 12px;\n",
              "    }\n",
              "\n",
              "    .colab-df-convert {\n",
              "      background-color: #E8F0FE;\n",
              "      border: none;\n",
              "      border-radius: 50%;\n",
              "      cursor: pointer;\n",
              "      display: none;\n",
              "      fill: #1967D2;\n",
              "      height: 32px;\n",
              "      padding: 0 0 0 0;\n",
              "      width: 32px;\n",
              "    }\n",
              "\n",
              "    .colab-df-convert:hover {\n",
              "      background-color: #E2EBFA;\n",
              "      box-shadow: 0px 1px 2px rgba(60, 64, 67, 0.3), 0px 1px 3px 1px rgba(60, 64, 67, 0.15);\n",
              "      fill: #174EA6;\n",
              "    }\n",
              "\n",
              "    .colab-df-buttons div {\n",
              "      margin-bottom: 4px;\n",
              "    }\n",
              "\n",
              "    [theme=dark] .colab-df-convert {\n",
              "      background-color: #3B4455;\n",
              "      fill: #D2E3FC;\n",
              "    }\n",
              "\n",
              "    [theme=dark] .colab-df-convert:hover {\n",
              "      background-color: #434B5C;\n",
              "      box-shadow: 0px 1px 3px 1px rgba(0, 0, 0, 0.15);\n",
              "      filter: drop-shadow(0px 1px 2px rgba(0, 0, 0, 0.3));\n",
              "      fill: #FFFFFF;\n",
              "    }\n",
              "  </style>\n",
              "\n",
              "    <script>\n",
              "      const buttonEl =\n",
              "        document.querySelector('#df-76feeff5-11f9-4422-a4a5-fda85503c0f7 button.colab-df-convert');\n",
              "      buttonEl.style.display =\n",
              "        google.colab.kernel.accessAllowed ? 'block' : 'none';\n",
              "\n",
              "      async function convertToInteractive(key) {\n",
              "        const element = document.querySelector('#df-76feeff5-11f9-4422-a4a5-fda85503c0f7');\n",
              "        const dataTable =\n",
              "          await google.colab.kernel.invokeFunction('convertToInteractive',\n",
              "                                                    [key], {});\n",
              "        if (!dataTable) return;\n",
              "\n",
              "        const docLinkHtml = 'Like what you see? Visit the ' +\n",
              "          '<a target=\"_blank\" href=https://colab.research.google.com/notebooks/data_table.ipynb>data table notebook</a>'\n",
              "          + ' to learn more about interactive tables.';\n",
              "        element.innerHTML = '';\n",
              "        dataTable['output_type'] = 'display_data';\n",
              "        await google.colab.output.renderOutput(dataTable, element);\n",
              "        const docLink = document.createElement('div');\n",
              "        docLink.innerHTML = docLinkHtml;\n",
              "        element.appendChild(docLink);\n",
              "      }\n",
              "    </script>\n",
              "  </div>\n",
              "\n",
              "\n",
              "<div id=\"df-a474e96c-faa9-4de6-901a-7a0e2ea36b26\">\n",
              "  <button class=\"colab-df-quickchart\" onclick=\"quickchart('df-a474e96c-faa9-4de6-901a-7a0e2ea36b26')\"\n",
              "            title=\"Suggest charts\"\n",
              "            style=\"display:none;\">\n",
              "\n",
              "<svg xmlns=\"http://www.w3.org/2000/svg\" height=\"24px\"viewBox=\"0 0 24 24\"\n",
              "     width=\"24px\">\n",
              "    <g>\n",
              "        <path d=\"M19 3H5c-1.1 0-2 .9-2 2v14c0 1.1.9 2 2 2h14c1.1 0 2-.9 2-2V5c0-1.1-.9-2-2-2zM9 17H7v-7h2v7zm4 0h-2V7h2v10zm4 0h-2v-4h2v4z\"/>\n",
              "    </g>\n",
              "</svg>\n",
              "  </button>\n",
              "\n",
              "<style>\n",
              "  .colab-df-quickchart {\n",
              "      --bg-color: #E8F0FE;\n",
              "      --fill-color: #1967D2;\n",
              "      --hover-bg-color: #E2EBFA;\n",
              "      --hover-fill-color: #174EA6;\n",
              "      --disabled-fill-color: #AAA;\n",
              "      --disabled-bg-color: #DDD;\n",
              "  }\n",
              "\n",
              "  [theme=dark] .colab-df-quickchart {\n",
              "      --bg-color: #3B4455;\n",
              "      --fill-color: #D2E3FC;\n",
              "      --hover-bg-color: #434B5C;\n",
              "      --hover-fill-color: #FFFFFF;\n",
              "      --disabled-bg-color: #3B4455;\n",
              "      --disabled-fill-color: #666;\n",
              "  }\n",
              "\n",
              "  .colab-df-quickchart {\n",
              "    background-color: var(--bg-color);\n",
              "    border: none;\n",
              "    border-radius: 50%;\n",
              "    cursor: pointer;\n",
              "    display: none;\n",
              "    fill: var(--fill-color);\n",
              "    height: 32px;\n",
              "    padding: 0;\n",
              "    width: 32px;\n",
              "  }\n",
              "\n",
              "  .colab-df-quickchart:hover {\n",
              "    background-color: var(--hover-bg-color);\n",
              "    box-shadow: 0 1px 2px rgba(60, 64, 67, 0.3), 0 1px 3px 1px rgba(60, 64, 67, 0.15);\n",
              "    fill: var(--button-hover-fill-color);\n",
              "  }\n",
              "\n",
              "  .colab-df-quickchart-complete:disabled,\n",
              "  .colab-df-quickchart-complete:disabled:hover {\n",
              "    background-color: var(--disabled-bg-color);\n",
              "    fill: var(--disabled-fill-color);\n",
              "    box-shadow: none;\n",
              "  }\n",
              "\n",
              "  .colab-df-spinner {\n",
              "    border: 2px solid var(--fill-color);\n",
              "    border-color: transparent;\n",
              "    border-bottom-color: var(--fill-color);\n",
              "    animation:\n",
              "      spin 1s steps(1) infinite;\n",
              "  }\n",
              "\n",
              "  @keyframes spin {\n",
              "    0% {\n",
              "      border-color: transparent;\n",
              "      border-bottom-color: var(--fill-color);\n",
              "      border-left-color: var(--fill-color);\n",
              "    }\n",
              "    20% {\n",
              "      border-color: transparent;\n",
              "      border-left-color: var(--fill-color);\n",
              "      border-top-color: var(--fill-color);\n",
              "    }\n",
              "    30% {\n",
              "      border-color: transparent;\n",
              "      border-left-color: var(--fill-color);\n",
              "      border-top-color: var(--fill-color);\n",
              "      border-right-color: var(--fill-color);\n",
              "    }\n",
              "    40% {\n",
              "      border-color: transparent;\n",
              "      border-right-color: var(--fill-color);\n",
              "      border-top-color: var(--fill-color);\n",
              "    }\n",
              "    60% {\n",
              "      border-color: transparent;\n",
              "      border-right-color: var(--fill-color);\n",
              "    }\n",
              "    80% {\n",
              "      border-color: transparent;\n",
              "      border-right-color: var(--fill-color);\n",
              "      border-bottom-color: var(--fill-color);\n",
              "    }\n",
              "    90% {\n",
              "      border-color: transparent;\n",
              "      border-bottom-color: var(--fill-color);\n",
              "    }\n",
              "  }\n",
              "</style>\n",
              "\n",
              "  <script>\n",
              "    async function quickchart(key) {\n",
              "      const quickchartButtonEl =\n",
              "        document.querySelector('#' + key + ' button');\n",
              "      quickchartButtonEl.disabled = true;  // To prevent multiple clicks.\n",
              "      quickchartButtonEl.classList.add('colab-df-spinner');\n",
              "      try {\n",
              "        const charts = await google.colab.kernel.invokeFunction(\n",
              "            'suggestCharts', [key], {});\n",
              "      } catch (error) {\n",
              "        console.error('Error during call to suggestCharts:', error);\n",
              "      }\n",
              "      quickchartButtonEl.classList.remove('colab-df-spinner');\n",
              "      quickchartButtonEl.classList.add('colab-df-quickchart-complete');\n",
              "    }\n",
              "    (() => {\n",
              "      let quickchartButtonEl =\n",
              "        document.querySelector('#df-a474e96c-faa9-4de6-901a-7a0e2ea36b26 button');\n",
              "      quickchartButtonEl.style.display =\n",
              "        google.colab.kernel.accessAllowed ? 'block' : 'none';\n",
              "    })();\n",
              "  </script>\n",
              "</div>\n",
              "    </div>\n",
              "  </div>\n"
            ],
            "application/vnd.google.colaboratory.intrinsic+json": {
              "type": "dataframe",
              "variable_name": "df_filtered",
              "summary": "{\n  \"name\": \"df_filtered\",\n  \"rows\": 4469,\n  \"fields\": [\n    {\n      \"column\": \"Index\",\n      \"properties\": {\n        \"dtype\": \"number\",\n        \"std\": 1543.9415952967593,\n        \"min\": 1.0,\n        \"max\": 5324.0,\n        \"num_unique_values\": 4469,\n        \"samples\": [\n          5175.0,\n          3210.0,\n          1680.0\n        ],\n        \"semantic_type\": \"\",\n        \"description\": \"\"\n      }\n    },\n    {\n      \"column\": \"Time\",\n      \"properties\": {\n        \"dtype\": \"number\",\n        \"std\": 18874313.399579465,\n        \"min\": 1700638783676.0,\n        \"max\": 1700738489528.0,\n        \"num_unique_values\": 4469,\n        \"samples\": [\n          1700737914913.0,\n          1700653948443.0,\n          1700647980922.0\n        ],\n        \"semantic_type\": \"\",\n        \"description\": \"\"\n      }\n    },\n    {\n      \"column\": \"Attacks\",\n      \"properties\": {\n        \"dtype\": \"number\",\n        \"std\": 9.720942020120434,\n        \"min\": 0.0,\n        \"max\": 39.0,\n        \"num_unique_values\": 13,\n        \"samples\": [\n          35.0,\n          34.0,\n          0.0\n        ],\n        \"semantic_type\": \"\",\n        \"description\": \"\"\n      }\n    },\n    {\n      \"column\": \"Power\",\n      \"properties\": {\n        \"dtype\": \"number\",\n        \"std\": 105.14205888228877,\n        \"min\": 303.28000000000003,\n        \"max\": 689.2,\n        \"num_unique_values\": 1771,\n        \"samples\": [\n          364.4,\n          594.3999999999999,\n          323.36\n        ],\n        \"semantic_type\": \"\",\n        \"description\": \"\"\n      }\n    },\n    {\n      \"column\": \"Count tcp W=15.0s\",\n      \"properties\": {\n        \"dtype\": \"number\",\n        \"std\": 62.715726036855806,\n        \"min\": 1.0,\n        \"max\": 483.0,\n        \"num_unique_values\": 317,\n        \"samples\": [\n          95.0,\n          383.0,\n          172.0\n        ],\n        \"semantic_type\": \"\",\n        \"description\": \"\"\n      }\n    },\n    {\n      \"column\": \"Count tcp.flags.syn == 1 W=15.0s In\",\n      \"properties\": {\n        \"dtype\": \"number\",\n        \"std\": 18.493105547643292,\n        \"min\": 0.0,\n        \"max\": 224.0,\n        \"num_unique_values\": 126,\n        \"samples\": [\n          37.0,\n          8.0,\n          217.0\n        ],\n        \"semantic_type\": \"\",\n        \"description\": \"\"\n      }\n    },\n    {\n      \"column\": \"Count tcp.flags.reset == 1 W=15.0s\",\n      \"properties\": {\n        \"dtype\": \"number\",\n        \"std\": 13.231299572246009,\n        \"min\": 0.0,\n        \"max\": 213.0,\n        \"num_unique_values\": 103,\n        \"samples\": [\n          12.0,\n          80.0,\n          40.0\n        ],\n        \"semantic_type\": \"\",\n        \"description\": \"\"\n      }\n    },\n    {\n      \"column\": \"Average frame.len W=15.0s\",\n      \"properties\": {\n        \"dtype\": \"number\",\n        \"std\": 138.87766521625434,\n        \"min\": 54.0,\n        \"max\": 1514.0,\n        \"num_unique_values\": 1819,\n        \"samples\": [\n          60.506024096385545,\n          109.39240506329114,\n          110.15384615384616\n        ],\n        \"semantic_type\": \"\",\n        \"description\": \"\"\n      }\n    },\n    {\n      \"column\": \"Distinct tcp.srcport W=15.0s In\",\n      \"properties\": {\n        \"dtype\": \"number\",\n        \"std\": 4.18104556878842,\n        \"min\": 0.0,\n        \"max\": 21.0,\n        \"num_unique_values\": 22,\n        \"samples\": [\n          1.0,\n          6.0,\n          5.0\n        ],\n        \"semantic_type\": \"\",\n        \"description\": \"\"\n      }\n    },\n    {\n      \"column\": \"Percent ssh W=15.0s\",\n      \"properties\": {\n        \"dtype\": \"number\",\n        \"std\": 0.21726421914481545,\n        \"min\": 0.0,\n        \"max\": 1.0,\n        \"num_unique_values\": 983,\n        \"samples\": [\n          0.4387755102040816,\n          0.2689075630252101,\n          0.5107913669064749\n        ],\n        \"semantic_type\": \"\",\n        \"description\": \"\"\n      }\n    }\n  ]\n}"
            }
          },
          "metadata": {},
          "execution_count": 9
        }
      ]
    },
    {
      "cell_type": "code",
      "source": [
        "df_filtered.info()"
      ],
      "metadata": {
        "colab": {
          "base_uri": "https://localhost:8080/"
        },
        "id": "JNYXCMOcPWL4",
        "outputId": "ba745f1d-38f1-429a-c74d-70b7dfb7ad6a"
      },
      "execution_count": null,
      "outputs": [
        {
          "output_type": "stream",
          "name": "stdout",
          "text": [
            "<class 'pandas.core.frame.DataFrame'>\n",
            "Index: 4469 entries, 59 to 319439\n",
            "Data columns (total 10 columns):\n",
            " #   Column                               Non-Null Count  Dtype  \n",
            "---  ------                               --------------  -----  \n",
            " 0   Index                                4469 non-null   float64\n",
            " 1   Time                                 4469 non-null   float64\n",
            " 2   Attacks                              4469 non-null   float64\n",
            " 3   Power                                4469 non-null   float64\n",
            " 4   Count tcp W=15.0s                    4469 non-null   float64\n",
            " 5   Count tcp.flags.syn == 1 W=15.0s In  4469 non-null   float64\n",
            " 6   Count tcp.flags.reset == 1 W=15.0s   4469 non-null   float64\n",
            " 7   Average frame.len W=15.0s            4469 non-null   float64\n",
            " 8   Distinct tcp.srcport W=15.0s In      4469 non-null   float64\n",
            " 9   Percent ssh W=15.0s                  4469 non-null   float64\n",
            "dtypes: float64(10)\n",
            "memory usage: 384.1 KB\n"
          ]
        }
      ]
    },
    {
      "cell_type": "code",
      "source": [
        "X = df_filtered\n",
        "y = df_filtered[\"Attacks\"]\n",
        "X.drop(['Attacks'], axis=1, inplace=True)"
      ],
      "metadata": {
        "colab": {
          "base_uri": "https://localhost:8080/"
        },
        "id": "BckPmZcoGEp6",
        "outputId": "f00bcead-31c8-48ec-dbc0-0a94a3c71d67"
      },
      "execution_count": null,
      "outputs": [
        {
          "output_type": "stream",
          "name": "stderr",
          "text": [
            "<ipython-input-11-fa4776c0f7ef>:3: SettingWithCopyWarning: \n",
            "A value is trying to be set on a copy of a slice from a DataFrame\n",
            "\n",
            "See the caveats in the documentation: https://pandas.pydata.org/pandas-docs/stable/user_guide/indexing.html#returning-a-view-versus-a-copy\n",
            "  X.drop(['Attacks'], axis=1, inplace=True)\n"
          ]
        }
      ]
    },
    {
      "cell_type": "code",
      "source": [
        "X_train, X_test, y_train, y_test = train_test_split(X, y, train_size=0.7, test_size=0.3, random_state=42)"
      ],
      "metadata": {
        "id": "OHCzW7bOGAa5"
      },
      "execution_count": null,
      "outputs": []
    },
    {
      "cell_type": "code",
      "source": [
        "features_values = chi2(X_train, y_train)\n",
        "features_values # Primer array el valor chi squared y el segundo array p-values"
      ],
      "metadata": {
        "colab": {
          "base_uri": "https://localhost:8080/"
        },
        "id": "Ud3Js0KqD_RB",
        "outputId": "1caa18be-47b0-45f6-82df-ae9149fbf545"
      },
      "execution_count": null,
      "outputs": [
        {
          "output_type": "execute_result",
          "data": {
            "text/plain": [
              "(array([59294.57356826, 28874.81417728, 61400.2635928 , 56658.88531641,\n",
              "        75233.03242289, 72879.27945574, 35265.84134801, 13979.78378171,\n",
              "          171.29041295]),\n",
              " array([0.00000000e+00, 0.00000000e+00, 0.00000000e+00, 0.00000000e+00,\n",
              "        0.00000000e+00, 0.00000000e+00, 0.00000000e+00, 0.00000000e+00,\n",
              "        2.59951708e-30]))"
            ]
          },
          "metadata": {},
          "execution_count": 180
        }
      ]
    },
    {
      "cell_type": "code",
      "source": [
        "p_values=pd.Series(features_values[0])\n",
        "p_values.index=X_train.columns\n",
        "p_values.sort_index(ascending=False)"
      ],
      "metadata": {
        "colab": {
          "base_uri": "https://localhost:8080/"
        },
        "id": "32G7oKxXGHby",
        "outputId": "ec76b1a4-19a6-47d6-95ed-8181c2335527"
      },
      "execution_count": null,
      "outputs": [
        {
          "output_type": "execute_result",
          "data": {
            "text/plain": [
              "Time                                   28874.814177\n",
              "Power                                  61400.263593\n",
              "Percent ssh W=15.0s                      171.290413\n",
              "Index                                  59294.573568\n",
              "Distinct tcp.srcport W=15.0s In        13979.783782\n",
              "Count tcp.flags.syn == 1 W=15.0s In    75233.032423\n",
              "Count tcp.flags.reset == 1 W=15.0s     72879.279456\n",
              "Count tcp W=15.0s                      56658.885316\n",
              "Average frame.len W=15.0s              35265.841348\n",
              "dtype: float64"
            ]
          },
          "metadata": {},
          "execution_count": 181
        }
      ]
    },
    {
      "cell_type": "code",
      "source": [
        "vt = VarianceThreshold(threshold=0) # threshold a 0 para eliminar caracterísitcas costantes\n",
        "vt.fit(X_train)\n",
        "sum(vt.get_support())"
      ],
      "metadata": {
        "colab": {
          "base_uri": "https://localhost:8080/"
        },
        "id": "5lHLQklsGpJr",
        "outputId": "372cd238-fe8b-49d8-cd2b-ff8f8a60d5a5"
      },
      "execution_count": null,
      "outputs": [
        {
          "output_type": "execute_result",
          "data": {
            "text/plain": [
              "9"
            ]
          },
          "metadata": {},
          "execution_count": 20
        }
      ]
    },
    {
      "cell_type": "code",
      "source": [
        "from sklearn.feature_selection import mutual_info_classif\n",
        "\n",
        "importances = mutual_info_classif(X, y)\n",
        "feat_importances = pd.Series(importances, df.columns[0:len(df.columns)-1])\n",
        "feat_importances.plot(kind='barh', color='teal')\n",
        "plt.show"
      ],
      "metadata": {
        "colab": {
          "base_uri": "https://localhost:8080/",
          "height": 600
        },
        "id": "Ka2tmNaxIH4E",
        "outputId": "67e0c434-30fd-45d5-f4a3-0e49c49a2810"
      },
      "execution_count": null,
      "outputs": [
        {
          "output_type": "execute_result",
          "data": {
            "text/plain": [
              "<function matplotlib.pyplot.show(close=None, block=None)>"
            ],
            "text/html": [
              "<div style=\"max-width:800px; border: 1px solid var(--colab-border-color);\"><style>\n",
              "      pre.function-repr-contents {\n",
              "        overflow-x: auto;\n",
              "        padding: 8px 12px;\n",
              "        max-height: 500px;\n",
              "      }\n",
              "\n",
              "      pre.function-repr-contents.function-repr-contents-collapsed {\n",
              "        cursor: pointer;\n",
              "        max-height: 100px;\n",
              "      }\n",
              "    </style>\n",
              "    <pre style=\"white-space: initial; background:\n",
              "         var(--colab-secondary-surface-color); padding: 8px 12px;\n",
              "         border-bottom: 1px solid var(--colab-border-color);\"><b>matplotlib.pyplot.show</b><br/>def show(*args, **kwargs)</pre><pre class=\"function-repr-contents function-repr-contents-collapsed\" style=\"\"><a class=\"filepath\" style=\"display:none\" href=\"#\">/usr/local/lib/python3.10/dist-packages/matplotlib/pyplot.py</a>Display all open figures.\n",
              "\n",
              "Parameters\n",
              "----------\n",
              "block : bool, optional\n",
              "    Whether to wait for all figures to be closed before returning.\n",
              "\n",
              "    If `True` block and run the GUI main loop until all figure windows\n",
              "    are closed.\n",
              "\n",
              "    If `False` ensure that all figure windows are displayed and return\n",
              "    immediately.  In this case, you are responsible for ensuring\n",
              "    that the event loop is running to have responsive figures.\n",
              "\n",
              "    Defaults to True in non-interactive mode and to False in interactive\n",
              "    mode (see `.pyplot.isinteractive`).\n",
              "\n",
              "See Also\n",
              "--------\n",
              "ion : Enable interactive mode, which shows / updates the figure after\n",
              "      every plotting command, so that calling ``show()`` is not necessary.\n",
              "ioff : Disable interactive mode.\n",
              "savefig : Save the figure to an image file instead of showing it on screen.\n",
              "\n",
              "Notes\n",
              "-----\n",
              "**Saving figures to file and showing a window at the same time**\n",
              "\n",
              "If you want an image file as well as a user interface window, use\n",
              "`.pyplot.savefig` before `.pyplot.show`. At the end of (a blocking)\n",
              "``show()`` the figure is closed and thus unregistered from pyplot. Calling\n",
              "`.pyplot.savefig` afterwards would save a new and thus empty figure. This\n",
              "limitation of command order does not apply if the show is non-blocking or\n",
              "if you keep a reference to the figure and use `.Figure.savefig`.\n",
              "\n",
              "**Auto-show in jupyter notebooks**\n",
              "\n",
              "The jupyter backends (activated via ``%matplotlib inline``,\n",
              "``%matplotlib notebook``, or ``%matplotlib widget``), call ``show()`` at\n",
              "the end of every cell by default. Thus, you usually don&#x27;t have to call it\n",
              "explicitly there.</pre>\n",
              "      <script>\n",
              "      if (google.colab.kernel.accessAllowed && google.colab.files && google.colab.files.view) {\n",
              "        for (const element of document.querySelectorAll('.filepath')) {\n",
              "          element.style.display = 'block'\n",
              "          element.onclick = (event) => {\n",
              "            event.preventDefault();\n",
              "            event.stopPropagation();\n",
              "            google.colab.files.view(element.textContent, 401);\n",
              "          };\n",
              "        }\n",
              "      }\n",
              "      for (const element of document.querySelectorAll('.function-repr-contents')) {\n",
              "        element.onclick = (event) => {\n",
              "          event.preventDefault();\n",
              "          event.stopPropagation();\n",
              "          element.classList.toggle('function-repr-contents-collapsed');\n",
              "        };\n",
              "      }\n",
              "      </script>\n",
              "      </div>"
            ]
          },
          "metadata": {},
          "execution_count": 14
        },
        {
          "output_type": "display_data",
          "data": {
            "text/plain": [
              "<Figure size 640x480 with 1 Axes>"
            ],
            "image/png": "[encoded data removed]"
          },
          "metadata": {}
        }
      ]
    },
    {
      "cell_type": "markdown",
      "source": [
        " # Red neuronal básica"
      ],
      "metadata": {
        "id": "hSJCOLt-RwUv"
      }
    },
    {
      "cell_type": "code",
      "source": [
        "df = pd.read_csv(\"S1_balanced.csv\")"
      ],
      "metadata": {
        "id": "Dw127nQkZ2Fq"
      },
      "execution_count": null,
      "outputs": []
    },
    {
      "cell_type": "code",
      "source": [
        "df_filtered = df.dropna()\n",
        "X = df_filtered\n",
        "X.head(3)\n",
        "X.drop([\"Index\"], axis=1, inplace=True)"
      ],
      "metadata": {
        "colab": {
          "base_uri": "https://localhost:8080/"
        },
        "id": "NgCGDQ9cKeUq",
        "outputId": "36c5f407-093c-45dc-c2f7-a78751bb7508"
      },
      "execution_count": null,
      "outputs": [
        {
          "output_type": "stream",
          "name": "stderr",
          "text": [
            "<ipython-input-73-2c3a649782e4>:4: SettingWithCopyWarning: \n",
            "A value is trying to be set on a copy of a slice from a DataFrame\n",
            "\n",
            "See the caveats in the documentation: https://pandas.pydata.org/pandas-docs/stable/user_guide/indexing.html#returning-a-view-versus-a-copy\n",
            "  X.drop([\"Index\"], axis=1, inplace=True)\n"
          ]
        }
      ]
    },
    {
      "cell_type": "code",
      "source": [
        "X = df_filtered\n",
        "X.dropna()\n",
        "y = df_filtered[\"Attacks\"]\n",
        "X.drop(['Attacks'], axis=1, inplace=True)"
      ],
      "metadata": {
        "colab": {
          "base_uri": "https://localhost:8080/"
        },
        "id": "lJlZYJ5_Y1a6",
        "outputId": "5fafe202-8c59-459a-9cd9-e7e450ba6042"
      },
      "execution_count": null,
      "outputs": [
        {
          "output_type": "stream",
          "name": "stderr",
          "text": [
            "<ipython-input-74-567601fca373>:4: SettingWithCopyWarning: \n",
            "A value is trying to be set on a copy of a slice from a DataFrame\n",
            "\n",
            "See the caveats in the documentation: https://pandas.pydata.org/pandas-docs/stable/user_guide/indexing.html#returning-a-view-versus-a-copy\n",
            "  X.drop(['Attacks'], axis=1, inplace=True)\n"
          ]
        }
      ]
    },
    {
      "cell_type": "code",
      "source": [
        "X.info()"
      ],
      "metadata": {
        "colab": {
          "base_uri": "https://localhost:8080/"
        },
        "id": "RZ5zHgPurGG6",
        "outputId": "43eddbc8-a6ce-4a02-f70b-52546c312e0c"
      },
      "execution_count": null,
      "outputs": [
        {
          "output_type": "stream",
          "name": "stdout",
          "text": [
            "<class 'pandas.core.frame.DataFrame'>\n",
            "Index: 4469 entries, 59 to 319439\n",
            "Data columns (total 8 columns):\n",
            " #   Column                               Non-Null Count  Dtype  \n",
            "---  ------                               --------------  -----  \n",
            " 0   Time                                 4469 non-null   float64\n",
            " 1   Power                                4469 non-null   float64\n",
            " 2   Count tcp W=15.0s                    4469 non-null   float64\n",
            " 3   Count tcp.flags.syn == 1 W=15.0s In  4469 non-null   float64\n",
            " 4   Count tcp.flags.reset == 1 W=15.0s   4469 non-null   float64\n",
            " 5   Average frame.len W=15.0s            4469 non-null   float64\n",
            " 6   Distinct tcp.srcport W=15.0s In      4469 non-null   float64\n",
            " 7   Percent ssh W=15.0s                  4469 non-null   float64\n",
            "dtypes: float64(8)\n",
            "memory usage: 314.2 KB\n"
          ]
        }
      ]
    },
    {
      "cell_type": "code",
      "source": [
        "from sklearn.preprocessing import MinMaxScaler\n",
        "\n",
        "scaler = MinMaxScaler(feature_range=(0,1))\n",
        "X = scaler.fit_transform(X)\n",
        "X"
      ],
      "metadata": {
        "colab": {
          "base_uri": "https://localhost:8080/"
        },
        "id": "G_Sq6nh9Kr_W",
        "outputId": "8187533e-08d6-45df-bc13-5e16dd71a555"
      },
      "execution_count": null,
      "outputs": [
        {
          "output_type": "execute_result",
          "data": {
            "text/plain": [
              "array([[0.00000000e+00, 3.64842454e-02, 4.97925311e-02, ...,\n",
              "        3.82465753e-02, 4.76190476e-02, 6.40000000e-01],\n",
              "       [4.21640216e-05, 5.80431177e-03, 4.97925311e-02, ...,\n",
              "        3.82465753e-02, 4.76190476e-02, 6.40000000e-01],\n",
              "       [8.64041540e-05, 8.29187396e-04, 4.97925311e-02, ...,\n",
              "        3.82465753e-02, 4.76190476e-02, 6.40000000e-01],\n",
              "       ...,\n",
              "       [9.99959852e-01, 5.32752902e-02, 4.97925311e-02, ...,\n",
              "        3.82465753e-02, 4.76190476e-02, 6.40000000e-01],\n",
              "       [1.00000000e+00, 1.66666667e-01, 3.25726141e-01, ...,\n",
              "        1.62762268e-01, 1.42857143e-01, 6.01265823e-01],\n",
              "       [9.99975949e-01, 7.12686567e-01, 1.74273859e-01, ...,\n",
              "        3.97421434e-02, 1.42857143e-01, 5.41176471e-01]])"
            ]
          },
          "metadata": {},
          "execution_count": 75
        }
      ]
    },
    {
      "cell_type": "code",
      "source": [
        "X_train, X_test, y_train, y_test = train_test_split(X, y, test_size=0.2, random_state=42)"
      ],
      "metadata": {
        "id": "ircRdYVArjRK"
      },
      "execution_count": null,
      "outputs": []
    },
    {
      "cell_type": "code",
      "source": [
        "model = Sequential()\n",
        "model.add(Dense(100, activation='relu', input_dim=X.shape[1]))\n",
        "model.add(Dropout(0.1))\n",
        "model.add(Dense(64, activation='relu'))\n",
        "model.add(Dropout(0.1))\n",
        "model.add(Dense(32, activation='relu'))\n",
        "model.add(Dropout(0.1))\n",
        "model.add(Dense(1, activation='sigmoid'))"
      ],
      "metadata": {
        "id": "QIdxrBpEKy7U"
      },
      "execution_count": null,
      "outputs": []
    },
    {
      "cell_type": "code",
      "source": [
        "model.compile(loss='binary_crossentropy', optimizer='adam', metrics=['accuracy'])\n",
        "model.fit(X_train, y_train, epochs=10, batch_size=32, validation_split=0.2)"
      ],
      "metadata": {
        "colab": {
          "base_uri": "https://localhost:8080/"
        },
        "id": "P-QNQMXrK3GE",
        "outputId": "5f75d30c-dda3-4779-abff-893e2be49fbb"
      },
      "execution_count": null,
      "outputs": [
        {
          "output_type": "stream",
          "name": "stdout",
          "text": [
            "Epoch 1/10\n",
            "90/90 [==============================] - 2s 8ms/step - loss: -21.7091 - accuracy: 0.1462 - val_loss: -132.7425 - val_accuracy: 0.1105\n",
            "Epoch 2/10\n",
            "90/90 [==============================] - 0s 3ms/step - loss: -984.9836 - accuracy: 0.1283 - val_loss: -3423.1777 - val_accuracy: 0.1105\n",
            "Epoch 3/10\n",
            "90/90 [==============================] - 0s 4ms/step - loss: -9508.6787 - accuracy: 0.1283 - val_loss: -23499.1992 - val_accuracy: 0.1105\n",
            "Epoch 4/10\n",
            "90/90 [==============================] - 0s 5ms/step - loss: -43050.5625 - accuracy: 0.1283 - val_loss: -88091.2578 - val_accuracy: 0.1105\n",
            "Epoch 5/10\n",
            "90/90 [==============================] - 1s 6ms/step - loss: -130439.5547 - accuracy: 0.1283 - val_loss: -229756.7344 - val_accuracy: 0.1105\n",
            "Epoch 6/10\n",
            "90/90 [==============================] - 1s 6ms/step - loss: -305737.8125 - accuracy: 0.1283 - val_loss: -502485.8750 - val_accuracy: 0.1105\n",
            "Epoch 7/10\n",
            "90/90 [==============================] - 1s 6ms/step - loss: -619814.3125 - accuracy: 0.1283 - val_loss: -953316.8750 - val_accuracy: 0.1105\n",
            "Epoch 8/10\n",
            "90/90 [==============================] - 1s 7ms/step - loss: -1106375.3750 - accuracy: 0.1283 - val_loss: -1629509.6250 - val_accuracy: 0.1105\n",
            "Epoch 9/10\n",
            "90/90 [==============================] - 0s 4ms/step - loss: -1811275.8750 - accuracy: 0.1283 - val_loss: -2629743.0000 - val_accuracy: 0.1105\n",
            "Epoch 10/10\n",
            "90/90 [==============================] - 0s 4ms/step - loss: -2866287.0000 - accuracy: 0.1283 - val_loss: -4017524.2500 - val_accuracy: 0.1105\n"
          ]
        },
        {
          "output_type": "execute_result",
          "data": {
            "text/plain": [
              "<keras.src.callbacks.History at 0x7a01bc2f1060>"
            ]
          },
          "metadata": {},
          "execution_count": 78
        }
      ]
    },
    {
      "cell_type": "code",
      "source": [
        "score = model.evaluate(X_test, y_test)\n",
        "print('Precisión:', score[1])"
      ],
      "metadata": {
        "colab": {
          "base_uri": "https://localhost:8080/"
        },
        "id": "wr48njzyLHDK",
        "outputId": "8bd9bdab-f18b-4ef8-a3de-957c59ec57da"
      },
      "execution_count": null,
      "outputs": [
        {
          "output_type": "stream",
          "name": "stdout",
          "text": [
            "28/28 [==============================] - 0s 2ms/step - loss: -3577571.7500 - accuracy: 0.1141\n",
            "Precisión: 0.11409395933151245\n"
          ]
        }
      ]
    },
    {
      "cell_type": "code",
      "source": [
        "weights = model.layers[-1].get_weights()[0]\n",
        "feature_importance = np.abs(weights.sum(axis=0))\n",
        "print('Importancia de las características:', feature_importance)\n",
        "\n",
        "# Seleccionar las características con mayor importancia\n",
        "selected_features = np.argsort(feature_importance)[-10:]\n",
        "print('Características seleccionadas:', selected_features)"
      ],
      "metadata": {
        "colab": {
          "base_uri": "https://localhost:8080/"
        },
        "id": "yawVCVwbLP6N",
        "outputId": "d52cebaa-e331-4d4b-d452-c06dc0e34c39"
      },
      "execution_count": null,
      "outputs": [
        {
          "output_type": "stream",
          "name": "stdout",
          "text": [
            "Importancia de las características: [9.531042]\n",
            "Características seleccionadas: [0]\n"
          ]
        }
      ]
    },
    {
      "cell_type": "markdown",
      "source": [
        "# Red con ataques binarios"
      ],
      "metadata": {
        "id": "guroiivdu04T"
      }
    },
    {
      "cell_type": "code",
      "source": [
        "df = pd.read_csv(\"S1_balanced.csv\")"
      ],
      "metadata": {
        "id": "S2ec0MTXu4pb"
      },
      "execution_count": null,
      "outputs": []
    },
    {
      "cell_type": "code",
      "source": [
        "df.head()"
      ],
      "metadata": {
        "id": "vaqIzUyf3QWP",
        "outputId": "1fd96304-057d-4640-bb65-9ff7b56dcfab",
        "colab": {
          "base_uri": "https://localhost:8080/",
          "height": 224
        }
      },
      "execution_count": null,
      "outputs": [
        {
          "output_type": "execute_result",
          "data": {
            "text/plain": [
              "   Index  Time  Attacks   Power  Count tcp W=15.0s  \\\n",
              "0    NaN   NaN      NaN  317.60                0.0   \n",
              "1    NaN   NaN      NaN  316.80                0.0   \n",
              "2    NaN   NaN      NaN  317.04                0.0   \n",
              "3    NaN   NaN      NaN  317.60                0.0   \n",
              "4    NaN   NaN      NaN  325.12               23.0   \n",
              "\n",
              "   Count tcp.flags.syn == 1 W=15.0s In  Count tcp.flags.reset == 1 W=15.0s  \\\n",
              "0                                  0.0                                 0.0   \n",
              "1                                  0.0                                 0.0   \n",
              "2                                  0.0                                 0.0   \n",
              "3                                  0.0                                 0.0   \n",
              "4                                  1.0                                 0.0   \n",
              "\n",
              "   Average frame.len W=15.0s  Distinct tcp.srcport W=15.0s In  \\\n",
              "0                        NaN                              0.0   \n",
              "1                        NaN                              0.0   \n",
              "2                        NaN                              0.0   \n",
              "3                        NaN                              0.0   \n",
              "4                 231.434783                              1.0   \n",
              "\n",
              "   Percent ssh W=15.0s  \n",
              "0                  NaN  \n",
              "1                  NaN  \n",
              "2                  NaN  \n",
              "3                  NaN  \n",
              "4             0.608696  "
            ],
            "text/html": [
              "\n",
              "  <div id=\"df-b3ff8b0d-2cde-4ca1-932e-da1311751cd6\" class=\"colab-df-container\">\n",
              "    <div>\n",
              "<style scoped>\n",
              "    .dataframe tbody tr th:only-of-type {\n",
              "        vertical-align: middle;\n",
              "    }\n",
              "\n",
              "    .dataframe tbody tr th {\n",
              "        vertical-align: top;\n",
              "    }\n",
              "\n",
              "    .dataframe thead th {\n",
              "        text-align: right;\n",
              "    }\n",
              "</style>\n",
              "<table border=\"1\" class=\"dataframe\">\n",
              "  <thead>\n",
              "    <tr style=\"text-align: right;\">\n",
              "      <th></th>\n",
              "      <th>Index</th>\n",
              "      <th>Time</th>\n",
              "      <th>Attacks</th>\n",
              "      <th>Power</th>\n",
              "      <th>Count tcp W=15.0s</th>\n",
              "      <th>Count tcp.flags.syn == 1 W=15.0s In</th>\n",
              "      <th>Count tcp.flags.reset == 1 W=15.0s</th>\n",
              "      <th>Average frame.len W=15.0s</th>\n",
              "      <th>Distinct tcp.srcport W=15.0s In</th>\n",
              "      <th>Percent ssh W=15.0s</th>\n",
              "    </tr>\n",
              "  </thead>\n",
              "  <tbody>\n",
              "    <tr>\n",
              "      <th>0</th>\n",
              "      <td>NaN</td>\n",
              "      <td>NaN</td>\n",
              "      <td>NaN</td>\n",
              "      <td>317.60</td>\n",
              "      <td>0.0</td>\n",
              "      <td>0.0</td>\n",
              "      <td>0.0</td>\n",
              "      <td>NaN</td>\n",
              "      <td>0.0</td>\n",
              "      <td>NaN</td>\n",
              "    </tr>\n",
              "    <tr>\n",
              "      <th>1</th>\n",
              "      <td>NaN</td>\n",
              "      <td>NaN</td>\n",
              "      <td>NaN</td>\n",
              "      <td>316.80</td>\n",
              "      <td>0.0</td>\n",
              "      <td>0.0</td>\n",
              "      <td>0.0</td>\n",
              "      <td>NaN</td>\n",
              "      <td>0.0</td>\n",
              "      <td>NaN</td>\n",
              "    </tr>\n",
              "    <tr>\n",
              "      <th>2</th>\n",
              "      <td>NaN</td>\n",
              "      <td>NaN</td>\n",
              "      <td>NaN</td>\n",
              "      <td>317.04</td>\n",
              "      <td>0.0</td>\n",
              "      <td>0.0</td>\n",
              "      <td>0.0</td>\n",
              "      <td>NaN</td>\n",
              "      <td>0.0</td>\n",
              "      <td>NaN</td>\n",
              "    </tr>\n",
              "    <tr>\n",
              "      <th>3</th>\n",
              "      <td>NaN</td>\n",
              "      <td>NaN</td>\n",
              "      <td>NaN</td>\n",
              "      <td>317.60</td>\n",
              "      <td>0.0</td>\n",
              "      <td>0.0</td>\n",
              "      <td>0.0</td>\n",
              "      <td>NaN</td>\n",
              "      <td>0.0</td>\n",
              "      <td>NaN</td>\n",
              "    </tr>\n",
              "    <tr>\n",
              "      <th>4</th>\n",
              "      <td>NaN</td>\n",
              "      <td>NaN</td>\n",
              "      <td>NaN</td>\n",
              "      <td>325.12</td>\n",
              "      <td>23.0</td>\n",
              "      <td>1.0</td>\n",
              "      <td>0.0</td>\n",
              "      <td>231.434783</td>\n",
              "      <td>1.0</td>\n",
              "      <td>0.608696</td>\n",
              "    </tr>\n",
              "  </tbody>\n",
              "</table>\n",
              "</div>\n",
              "    <div class=\"colab-df-buttons\">\n",
              "\n",
              "  <div class=\"colab-df-container\">\n",
              "    <button class=\"colab-df-convert\" onclick=\"convertToInteractive('df-b3ff8b0d-2cde-4ca1-932e-da1311751cd6')\"\n",
              "            title=\"Convert this dataframe to an interactive table.\"\n",
              "            style=\"display:none;\">\n",
              "\n",
              "  <svg xmlns=\"http://www.w3.org/2000/svg\" height=\"24px\" viewBox=\"0 -960 960 960\">\n",
              "    <path d=\"M120-120v-720h720v720H120Zm60-500h600v-160H180v160Zm220 220h160v-160H400v160Zm0 220h160v-160H400v160ZM180-400h160v-160H180v160Zm440 0h160v-160H620v160ZM180-180h160v-160H180v160Zm440 0h160v-160H620v160Z\"/>\n",
              "  </svg>\n",
              "    </button>\n",
              "\n",
              "  <style>\n",
              "    .colab-df-container {\n",
              "      display:flex;\n",
              "      gap: 12px;\n",
              "    }\n",
              "\n",
              "    .colab-df-convert {\n",
              "      background-color: #E8F0FE;\n",
              "      border: none;\n",
              "      border-radius: 50%;\n",
              "      cursor: pointer;\n",
              "      display: none;\n",
              "      fill: #1967D2;\n",
              "      height: 32px;\n",
              "      padding: 0 0 0 0;\n",
              "      width: 32px;\n",
              "    }\n",
              "\n",
              "    .colab-df-convert:hover {\n",
              "      background-color: #E2EBFA;\n",
              "      box-shadow: 0px 1px 2px rgba(60, 64, 67, 0.3), 0px 1px 3px 1px rgba(60, 64, 67, 0.15);\n",
              "      fill: #174EA6;\n",
              "    }\n",
              "\n",
              "    .colab-df-buttons div {\n",
              "      margin-bottom: 4px;\n",
              "    }\n",
              "\n",
              "    [theme=dark] .colab-df-convert {\n",
              "      background-color: #3B4455;\n",
              "      fill: #D2E3FC;\n",
              "    }\n",
              "\n",
              "    [theme=dark] .colab-df-convert:hover {\n",
              "      background-color: #434B5C;\n",
              "      box-shadow: 0px 1px 3px 1px rgba(0, 0, 0, 0.15);\n",
              "      filter: drop-shadow(0px 1px 2px rgba(0, 0, 0, 0.3));\n",
              "      fill: #FFFFFF;\n",
              "    }\n",
              "  </style>\n",
              "\n",
              "    <script>\n",
              "      const buttonEl =\n",
              "        document.querySelector('#df-b3ff8b0d-2cde-4ca1-932e-da1311751cd6 button.colab-df-convert');\n",
              "      buttonEl.style.display =\n",
              "        google.colab.kernel.accessAllowed ? 'block' : 'none';\n",
              "\n",
              "      async function convertToInteractive(key) {\n",
              "        const element = document.querySelector('#df-b3ff8b0d-2cde-4ca1-932e-da1311751cd6');\n",
              "        const dataTable =\n",
              "          await google.colab.kernel.invokeFunction('convertToInteractive',\n",
              "                                                    [key], {});\n",
              "        if (!dataTable) return;\n",
              "\n",
              "        const docLinkHtml = 'Like what you see? Visit the ' +\n",
              "          '<a target=\"_blank\" href=https://colab.research.google.com/notebooks/data_table.ipynb>data table notebook</a>'\n",
              "          + ' to learn more about interactive tables.';\n",
              "        element.innerHTML = '';\n",
              "        dataTable['output_type'] = 'display_data';\n",
              "        await google.colab.output.renderOutput(dataTable, element);\n",
              "        const docLink = document.createElement('div');\n",
              "        docLink.innerHTML = docLinkHtml;\n",
              "        element.appendChild(docLink);\n",
              "      }\n",
              "    </script>\n",
              "  </div>\n",
              "\n",
              "\n",
              "<div id=\"df-b7fce08e-d3b0-4666-9f65-effc6cdb48bd\">\n",
              "  <button class=\"colab-df-quickchart\" onclick=\"quickchart('df-b7fce08e-d3b0-4666-9f65-effc6cdb48bd')\"\n",
              "            title=\"Suggest charts\"\n",
              "            style=\"display:none;\">\n",
              "\n",
              "<svg xmlns=\"http://www.w3.org/2000/svg\" height=\"24px\"viewBox=\"0 0 24 24\"\n",
              "     width=\"24px\">\n",
              "    <g>\n",
              "        <path d=\"M19 3H5c-1.1 0-2 .9-2 2v14c0 1.1.9 2 2 2h14c1.1 0 2-.9 2-2V5c0-1.1-.9-2-2-2zM9 17H7v-7h2v7zm4 0h-2V7h2v10zm4 0h-2v-4h2v4z\"/>\n",
              "    </g>\n",
              "</svg>\n",
              "  </button>\n",
              "\n",
              "<style>\n",
              "  .colab-df-quickchart {\n",
              "      --bg-color: #E8F0FE;\n",
              "      --fill-color: #1967D2;\n",
              "      --hover-bg-color: #E2EBFA;\n",
              "      --hover-fill-color: #174EA6;\n",
              "      --disabled-fill-color: #AAA;\n",
              "      --disabled-bg-color: #DDD;\n",
              "  }\n",
              "\n",
              "  [theme=dark] .colab-df-quickchart {\n",
              "      --bg-color: #3B4455;\n",
              "      --fill-color: #D2E3FC;\n",
              "      --hover-bg-color: #434B5C;\n",
              "      --hover-fill-color: #FFFFFF;\n",
              "      --disabled-bg-color: #3B4455;\n",
              "      --disabled-fill-color: #666;\n",
              "  }\n",
              "\n",
              "  .colab-df-quickchart {\n",
              "    background-color: var(--bg-color);\n",
              "    border: none;\n",
              "    border-radius: 50%;\n",
              "    cursor: pointer;\n",
              "    display: none;\n",
              "    fill: var(--fill-color);\n",
              "    height: 32px;\n",
              "    padding: 0;\n",
              "    width: 32px;\n",
              "  }\n",
              "\n",
              "  .colab-df-quickchart:hover {\n",
              "    background-color: var(--hover-bg-color);\n",
              "    box-shadow: 0 1px 2px rgba(60, 64, 67, 0.3), 0 1px 3px 1px rgba(60, 64, 67, 0.15);\n",
              "    fill: var(--button-hover-fill-color);\n",
              "  }\n",
              "\n",
              "  .colab-df-quickchart-complete:disabled,\n",
              "  .colab-df-quickchart-complete:disabled:hover {\n",
              "    background-color: var(--disabled-bg-color);\n",
              "    fill: var(--disabled-fill-color);\n",
              "    box-shadow: none;\n",
              "  }\n",
              "\n",
              "  .colab-df-spinner {\n",
              "    border: 2px solid var(--fill-color);\n",
              "    border-color: transparent;\n",
              "    border-bottom-color: var(--fill-color);\n",
              "    animation:\n",
              "      spin 1s steps(1) infinite;\n",
              "  }\n",
              "\n",
              "  @keyframes spin {\n",
              "    0% {\n",
              "      border-color: transparent;\n",
              "      border-bottom-color: var(--fill-color);\n",
              "      border-left-color: var(--fill-color);\n",
              "    }\n",
              "    20% {\n",
              "      border-color: transparent;\n",
              "      border-left-color: var(--fill-color);\n",
              "      border-top-color: var(--fill-color);\n",
              "    }\n",
              "    30% {\n",
              "      border-color: transparent;\n",
              "      border-left-color: var(--fill-color);\n",
              "      border-top-color: var(--fill-color);\n",
              "      border-right-color: var(--fill-color);\n",
              "    }\n",
              "    40% {\n",
              "      border-color: transparent;\n",
              "      border-right-color: var(--fill-color);\n",
              "      border-top-color: var(--fill-color);\n",
              "    }\n",
              "    60% {\n",
              "      border-color: transparent;\n",
              "      border-right-color: var(--fill-color);\n",
              "    }\n",
              "    80% {\n",
              "      border-color: transparent;\n",
              "      border-right-color: var(--fill-color);\n",
              "      border-bottom-color: var(--fill-color);\n",
              "    }\n",
              "    90% {\n",
              "      border-color: transparent;\n",
              "      border-bottom-color: var(--fill-color);\n",
              "    }\n",
              "  }\n",
              "</style>\n",
              "\n",
              "  <script>\n",
              "    async function quickchart(key) {\n",
              "      const quickchartButtonEl =\n",
              "        document.querySelector('#' + key + ' button');\n",
              "      quickchartButtonEl.disabled = true;  // To prevent multiple clicks.\n",
              "      quickchartButtonEl.classList.add('colab-df-spinner');\n",
              "      try {\n",
              "        const charts = await google.colab.kernel.invokeFunction(\n",
              "            'suggestCharts', [key], {});\n",
              "      } catch (error) {\n",
              "        console.error('Error during call to suggestCharts:', error);\n",
              "      }\n",
              "      quickchartButtonEl.classList.remove('colab-df-spinner');\n",
              "      quickchartButtonEl.classList.add('colab-df-quickchart-complete');\n",
              "    }\n",
              "    (() => {\n",
              "      let quickchartButtonEl =\n",
              "        document.querySelector('#df-b7fce08e-d3b0-4666-9f65-effc6cdb48bd button');\n",
              "      quickchartButtonEl.style.display =\n",
              "        google.colab.kernel.accessAllowed ? 'block' : 'none';\n",
              "    })();\n",
              "  </script>\n",
              "</div>\n",
              "    </div>\n",
              "  </div>\n"
            ],
            "application/vnd.google.colaboratory.intrinsic+json": {
              "type": "dataframe",
              "variable_name": "df"
            }
          },
          "metadata": {},
          "execution_count": 47
        }
      ]
    },
    {
      "cell_type": "code",
      "source": [
        "df[\"Attacks\"] = df[\"Attacks\"].apply(lambda x: 1 if x > 0 else x)"
      ],
      "metadata": {
        "id": "ki1YWtQ8vJSU"
      },
      "execution_count": null,
      "outputs": []
    },
    {
      "cell_type": "code",
      "source": [
        "X = df\n",
        "X = X.dropna()\n",
        "y = X[\"Attacks\"]\n",
        "X.drop([\"Attacks\", \"Index\", \"Time\"], axis=1, inplace=True)"
      ],
      "metadata": {
        "id": "zWnLnGTnvlM0",
        "colab": {
          "base_uri": "https://localhost:8080/"
        },
        "outputId": "6306eb90-0c8e-40aa-fdc2-ce26ecf200de"
      },
      "execution_count": null,
      "outputs": [
        {
          "output_type": "stream",
          "name": "stderr",
          "text": [
            "<ipython-input-49-60451588cfe1>:4: SettingWithCopyWarning: \n",
            "A value is trying to be set on a copy of a slice from a DataFrame\n",
            "\n",
            "See the caveats in the documentation: https://pandas.pydata.org/pandas-docs/stable/user_guide/indexing.html#returning-a-view-versus-a-copy\n",
            "  X.drop([\"Attacks\", \"Index\", \"Time\"], axis=1, inplace=True)\n"
          ]
        }
      ]
    },
    {
      "cell_type": "code",
      "source": [
        "y.head()"
      ],
      "metadata": {
        "colab": {
          "base_uri": "https://localhost:8080/"
        },
        "id": "QduIveCEOLWO",
        "outputId": "4d93716b-1ec6-4888-bda1-4a9d00b850bc"
      },
      "execution_count": null,
      "outputs": [
        {
          "output_type": "execute_result",
          "data": {
            "text/plain": [
              "59     0.0\n",
              "119    0.0\n",
              "179    0.0\n",
              "239    0.0\n",
              "299    0.0\n",
              "Name: Attacks, dtype: float64"
            ]
          },
          "metadata": {},
          "execution_count": 44
        }
      ]
    },
    {
      "cell_type": "code",
      "source": [
        "X.describe()"
      ],
      "metadata": {
        "colab": {
          "base_uri": "https://localhost:8080/",
          "height": 300
        },
        "id": "-SmV3pNxO4Ah",
        "outputId": "aa127796-4272-4c62-d98d-ba676230dcb4"
      },
      "execution_count": null,
      "outputs": [
        {
          "output_type": "execute_result",
          "data": {
            "text/plain": [
              "             Power  Count tcp W=15.0s  Count tcp.flags.syn == 1 W=15.0s In  \\\n",
              "count  4469.000000        4469.000000                          4469.000000   \n",
              "mean    374.064337          59.957485                             4.831058   \n",
              "std     105.142059          62.715726                            18.493106   \n",
              "min     303.280000           1.000000                             0.000000   \n",
              "25%     310.240000          25.000000                             0.000000   \n",
              "50%     321.280000          33.000000                             0.000000   \n",
              "75%     368.480000          67.000000                             0.000000   \n",
              "max     689.200000         483.000000                           224.000000   \n",
              "\n",
              "       Count tcp.flags.reset == 1 W=15.0s  Average frame.len W=15.0s  \\\n",
              "count                         4469.000000                4469.000000   \n",
              "mean                             3.766167                 150.123611   \n",
              "std                             13.231300                 138.877665   \n",
              "min                              0.000000                  54.000000   \n",
              "25%                              0.000000                 108.480000   \n",
              "50%                              0.000000                 109.840000   \n",
              "75%                              0.000000                 114.315789   \n",
              "max                            213.000000                1514.000000   \n",
              "\n",
              "       Distinct tcp.srcport W=15.0s In  Percent ssh W=15.0s  \n",
              "count                      4469.000000          4469.000000  \n",
              "mean                          2.801969             0.496184  \n",
              "std                           4.181046             0.217264  \n",
              "min                           0.000000             0.000000  \n",
              "25%                           1.000000             0.447977  \n",
              "50%                           1.000000             0.580000  \n",
              "75%                           2.000000             0.640000  \n",
              "max                          21.000000             1.000000  "
            ],
            "text/html": [
              "\n",
              "  <div id=\"df-5ab1ff8e-e26b-43ee-a872-3c270273f91c\" class=\"colab-df-container\">\n",
              "    <div>\n",
              "<style scoped>\n",
              "    .dataframe tbody tr th:only-of-type {\n",
              "        vertical-align: middle;\n",
              "    }\n",
              "\n",
              "    .dataframe tbody tr th {\n",
              "        vertical-align: top;\n",
              "    }\n",
              "\n",
              "    .dataframe thead th {\n",
              "        text-align: right;\n",
              "    }\n",
              "</style>\n",
              "<table border=\"1\" class=\"dataframe\">\n",
              "  <thead>\n",
              "    <tr style=\"text-align: right;\">\n",
              "      <th></th>\n",
              "      <th>Power</th>\n",
              "      <th>Count tcp W=15.0s</th>\n",
              "      <th>Count tcp.flags.syn == 1 W=15.0s In</th>\n",
              "      <th>Count tcp.flags.reset == 1 W=15.0s</th>\n",
              "      <th>Average frame.len W=15.0s</th>\n",
              "      <th>Distinct tcp.srcport W=15.0s In</th>\n",
              "      <th>Percent ssh W=15.0s</th>\n",
              "    </tr>\n",
              "  </thead>\n",
              "  <tbody>\n",
              "    <tr>\n",
              "      <th>count</th>\n",
              "      <td>4469.000000</td>\n",
              "      <td>4469.000000</td>\n",
              "      <td>4469.000000</td>\n",
              "      <td>4469.000000</td>\n",
              "      <td>4469.000000</td>\n",
              "      <td>4469.000000</td>\n",
              "      <td>4469.000000</td>\n",
              "    </tr>\n",
              "    <tr>\n",
              "      <th>mean</th>\n",
              "      <td>374.064337</td>\n",
              "      <td>59.957485</td>\n",
              "      <td>4.831058</td>\n",
              "      <td>3.766167</td>\n",
              "      <td>150.123611</td>\n",
              "      <td>2.801969</td>\n",
              "      <td>0.496184</td>\n",
              "    </tr>\n",
              "    <tr>\n",
              "      <th>std</th>\n",
              "      <td>105.142059</td>\n",
              "      <td>62.715726</td>\n",
              "      <td>18.493106</td>\n",
              "      <td>13.231300</td>\n",
              "      <td>138.877665</td>\n",
              "      <td>4.181046</td>\n",
              "      <td>0.217264</td>\n",
              "    </tr>\n",
              "    <tr>\n",
              "      <th>min</th>\n",
              "      <td>303.280000</td>\n",
              "      <td>1.000000</td>\n",
              "      <td>0.000000</td>\n",
              "      <td>0.000000</td>\n",
              "      <td>54.000000</td>\n",
              "      <td>0.000000</td>\n",
              "      <td>0.000000</td>\n",
              "    </tr>\n",
              "    <tr>\n",
              "      <th>25%</th>\n",
              "      <td>310.240000</td>\n",
              "      <td>25.000000</td>\n",
              "      <td>0.000000</td>\n",
              "      <td>0.000000</td>\n",
              "      <td>108.480000</td>\n",
              "      <td>1.000000</td>\n",
              "      <td>0.447977</td>\n",
              "    </tr>\n",
              "    <tr>\n",
              "      <th>50%</th>\n",
              "      <td>321.280000</td>\n",
              "      <td>33.000000</td>\n",
              "      <td>0.000000</td>\n",
              "      <td>0.000000</td>\n",
              "      <td>109.840000</td>\n",
              "      <td>1.000000</td>\n",
              "      <td>0.580000</td>\n",
              "    </tr>\n",
              "    <tr>\n",
              "      <th>75%</th>\n",
              "      <td>368.480000</td>\n",
              "      <td>67.000000</td>\n",
              "      <td>0.000000</td>\n",
              "      <td>0.000000</td>\n",
              "      <td>114.315789</td>\n",
              "      <td>2.000000</td>\n",
              "      <td>0.640000</td>\n",
              "    </tr>\n",
              "    <tr>\n",
              "      <th>max</th>\n",
              "      <td>689.200000</td>\n",
              "      <td>483.000000</td>\n",
              "      <td>224.000000</td>\n",
              "      <td>213.000000</td>\n",
              "      <td>1514.000000</td>\n",
              "      <td>21.000000</td>\n",
              "      <td>1.000000</td>\n",
              "    </tr>\n",
              "  </tbody>\n",
              "</table>\n",
              "</div>\n",
              "    <div class=\"colab-df-buttons\">\n",
              "\n",
              "  <div class=\"colab-df-container\">\n",
              "    <button class=\"colab-df-convert\" onclick=\"convertToInteractive('df-5ab1ff8e-e26b-43ee-a872-3c270273f91c')\"\n",
              "            title=\"Convert this dataframe to an interactive table.\"\n",
              "            style=\"display:none;\">\n",
              "\n",
              "  <svg xmlns=\"http://www.w3.org/2000/svg\" height=\"24px\" viewBox=\"0 -960 960 960\">\n",
              "    <path d=\"M120-120v-720h720v720H120Zm60-500h600v-160H180v160Zm220 220h160v-160H400v160Zm0 220h160v-160H400v160ZM180-400h160v-160H180v160Zm440 0h160v-160H620v160ZM180-180h160v-160H180v160Zm440 0h160v-160H620v160Z\"/>\n",
              "  </svg>\n",
              "    </button>\n",
              "\n",
              "  <style>\n",
              "    .colab-df-container {\n",
              "      display:flex;\n",
              "      gap: 12px;\n",
              "    }\n",
              "\n",
              "    .colab-df-convert {\n",
              "      background-color: #E8F0FE;\n",
              "      border: none;\n",
              "      border-radius: 50%;\n",
              "      cursor: pointer;\n",
              "      display: none;\n",
              "      fill: #1967D2;\n",
              "      height: 32px;\n",
              "      padding: 0 0 0 0;\n",
              "      width: 32px;\n",
              "    }\n",
              "\n",
              "    .colab-df-convert:hover {\n",
              "      background-color: #E2EBFA;\n",
              "      box-shadow: 0px 1px 2px rgba(60, 64, 67, 0.3), 0px 1px 3px 1px rgba(60, 64, 67, 0.15);\n",
              "      fill: #174EA6;\n",
              "    }\n",
              "\n",
              "    .colab-df-buttons div {\n",
              "      margin-bottom: 4px;\n",
              "    }\n",
              "\n",
              "    [theme=dark] .colab-df-convert {\n",
              "      background-color: #3B4455;\n",
              "      fill: #D2E3FC;\n",
              "    }\n",
              "\n",
              "    [theme=dark] .colab-df-convert:hover {\n",
              "      background-color: #434B5C;\n",
              "      box-shadow: 0px 1px 3px 1px rgba(0, 0, 0, 0.15);\n",
              "      filter: drop-shadow(0px 1px 2px rgba(0, 0, 0, 0.3));\n",
              "      fill: #FFFFFF;\n",
              "    }\n",
              "  </style>\n",
              "\n",
              "    <script>\n",
              "      const buttonEl =\n",
              "        document.querySelector('#df-5ab1ff8e-e26b-43ee-a872-3c270273f91c button.colab-df-convert');\n",
              "      buttonEl.style.display =\n",
              "        google.colab.kernel.accessAllowed ? 'block' : 'none';\n",
              "\n",
              "      async function convertToInteractive(key) {\n",
              "        const element = document.querySelector('#df-5ab1ff8e-e26b-43ee-a872-3c270273f91c');\n",
              "        const dataTable =\n",
              "          await google.colab.kernel.invokeFunction('convertToInteractive',\n",
              "                                                    [key], {});\n",
              "        if (!dataTable) return;\n",
              "\n",
              "        const docLinkHtml = 'Like what you see? Visit the ' +\n",
              "          '<a target=\"_blank\" href=https://colab.research.google.com/notebooks/data_table.ipynb>data table notebook</a>'\n",
              "          + ' to learn more about interactive tables.';\n",
              "        element.innerHTML = '';\n",
              "        dataTable['output_type'] = 'display_data';\n",
              "        await google.colab.output.renderOutput(dataTable, element);\n",
              "        const docLink = document.createElement('div');\n",
              "        docLink.innerHTML = docLinkHtml;\n",
              "        element.appendChild(docLink);\n",
              "      }\n",
              "    </script>\n",
              "  </div>\n",
              "\n",
              "\n",
              "<div id=\"df-cd4f027a-348a-41d6-bd1b-281635ed1c66\">\n",
              "  <button class=\"colab-df-quickchart\" onclick=\"quickchart('df-cd4f027a-348a-41d6-bd1b-281635ed1c66')\"\n",
              "            title=\"Suggest charts\"\n",
              "            style=\"display:none;\">\n",
              "\n",
              "<svg xmlns=\"http://www.w3.org/2000/svg\" height=\"24px\"viewBox=\"0 0 24 24\"\n",
              "     width=\"24px\">\n",
              "    <g>\n",
              "        <path d=\"M19 3H5c-1.1 0-2 .9-2 2v14c0 1.1.9 2 2 2h14c1.1 0 2-.9 2-2V5c0-1.1-.9-2-2-2zM9 17H7v-7h2v7zm4 0h-2V7h2v10zm4 0h-2v-4h2v4z\"/>\n",
              "    </g>\n",
              "</svg>\n",
              "  </button>\n",
              "\n",
              "<style>\n",
              "  .colab-df-quickchart {\n",
              "      --bg-color: #E8F0FE;\n",
              "      --fill-color: #1967D2;\n",
              "      --hover-bg-color: #E2EBFA;\n",
              "      --hover-fill-color: #174EA6;\n",
              "      --disabled-fill-color: #AAA;\n",
              "      --disabled-bg-color: #DDD;\n",
              "  }\n",
              "\n",
              "  [theme=dark] .colab-df-quickchart {\n",
              "      --bg-color: #3B4455;\n",
              "      --fill-color: #D2E3FC;\n",
              "      --hover-bg-color: #434B5C;\n",
              "      --hover-fill-color: #FFFFFF;\n",
              "      --disabled-bg-color: #3B4455;\n",
              "      --disabled-fill-color: #666;\n",
              "  }\n",
              "\n",
              "  .colab-df-quickchart {\n",
              "    background-color: var(--bg-color);\n",
              "    border: none;\n",
              "    border-radius: 50%;\n",
              "    cursor: pointer;\n",
              "    display: none;\n",
              "    fill: var(--fill-color);\n",
              "    height: 32px;\n",
              "    padding: 0;\n",
              "    width: 32px;\n",
              "  }\n",
              "\n",
              "  .colab-df-quickchart:hover {\n",
              "    background-color: var(--hover-bg-color);\n",
              "    box-shadow: 0 1px 2px rgba(60, 64, 67, 0.3), 0 1px 3px 1px rgba(60, 64, 67, 0.15);\n",
              "    fill: var(--button-hover-fill-color);\n",
              "  }\n",
              "\n",
              "  .colab-df-quickchart-complete:disabled,\n",
              "  .colab-df-quickchart-complete:disabled:hover {\n",
              "    background-color: var(--disabled-bg-color);\n",
              "    fill: var(--disabled-fill-color);\n",
              "    box-shadow: none;\n",
              "  }\n",
              "\n",
              "  .colab-df-spinner {\n",
              "    border: 2px solid var(--fill-color);\n",
              "    border-color: transparent;\n",
              "    border-bottom-color: var(--fill-color);\n",
              "    animation:\n",
              "      spin 1s steps(1) infinite;\n",
              "  }\n",
              "\n",
              "  @keyframes spin {\n",
              "    0% {\n",
              "      border-color: transparent;\n",
              "      border-bottom-color: var(--fill-color);\n",
              "      border-left-color: var(--fill-color);\n",
              "    }\n",
              "    20% {\n",
              "      border-color: transparent;\n",
              "      border-left-color: var(--fill-color);\n",
              "      border-top-color: var(--fill-color);\n",
              "    }\n",
              "    30% {\n",
              "      border-color: transparent;\n",
              "      border-left-color: var(--fill-color);\n",
              "      border-top-color: var(--fill-color);\n",
              "      border-right-color: var(--fill-color);\n",
              "    }\n",
              "    40% {\n",
              "      border-color: transparent;\n",
              "      border-right-color: var(--fill-color);\n",
              "      border-top-color: var(--fill-color);\n",
              "    }\n",
              "    60% {\n",
              "      border-color: transparent;\n",
              "      border-right-color: var(--fill-color);\n",
              "    }\n",
              "    80% {\n",
              "      border-color: transparent;\n",
              "      border-right-color: var(--fill-color);\n",
              "      border-bottom-color: var(--fill-color);\n",
              "    }\n",
              "    90% {\n",
              "      border-color: transparent;\n",
              "      border-bottom-color: var(--fill-color);\n",
              "    }\n",
              "  }\n",
              "</style>\n",
              "\n",
              "  <script>\n",
              "    async function quickchart(key) {\n",
              "      const quickchartButtonEl =\n",
              "        document.querySelector('#' + key + ' button');\n",
              "      quickchartButtonEl.disabled = true;  // To prevent multiple clicks.\n",
              "      quickchartButtonEl.classList.add('colab-df-spinner');\n",
              "      try {\n",
              "        const charts = await google.colab.kernel.invokeFunction(\n",
              "            'suggestCharts', [key], {});\n",
              "      } catch (error) {\n",
              "        console.error('Error during call to suggestCharts:', error);\n",
              "      }\n",
              "      quickchartButtonEl.classList.remove('colab-df-spinner');\n",
              "      quickchartButtonEl.classList.add('colab-df-quickchart-complete');\n",
              "    }\n",
              "    (() => {\n",
              "      let quickchartButtonEl =\n",
              "        document.querySelector('#df-cd4f027a-348a-41d6-bd1b-281635ed1c66 button');\n",
              "      quickchartButtonEl.style.display =\n",
              "        google.colab.kernel.accessAllowed ? 'block' : 'none';\n",
              "    })();\n",
              "  </script>\n",
              "</div>\n",
              "    </div>\n",
              "  </div>\n"
            ],
            "application/vnd.google.colaboratory.intrinsic+json": {
              "type": "dataframe",
              "summary": "{\n  \"name\": \"X\",\n  \"rows\": 8,\n  \"fields\": [\n    {\n      \"column\": \"Power\",\n      \"properties\": {\n        \"dtype\": \"number\",\n        \"std\": 1464.021937299853,\n        \"min\": 105.14205888228877,\n        \"max\": 4469.0,\n        \"num_unique_values\": 8,\n        \"samples\": [\n          374.0643365406131,\n          321.28000000000003,\n          4469.0\n        ],\n        \"semantic_type\": \"\",\n        \"description\": \"\"\n      }\n    },\n    {\n      \"column\": \"Count tcp W=15.0s\",\n      \"properties\": {\n        \"dtype\": \"number\",\n        \"std\": 1550.9493374530834,\n        \"min\": 1.0,\n        \"max\": 4469.0,\n        \"num_unique_values\": 8,\n        \"samples\": [\n          59.957484895949875,\n          33.0,\n          4469.0\n        ],\n        \"semantic_type\": \"\",\n        \"description\": \"\"\n      }\n    },\n    {\n      \"column\": \"Count tcp.flags.syn == 1 W=15.0s In\",\n      \"properties\": {\n        \"dtype\": \"number\",\n        \"std\": 1569.442036050018,\n        \"min\": 0.0,\n        \"max\": 4469.0,\n        \"num_unique_values\": 5,\n        \"samples\": [\n          4.831058402327143,\n          224.0,\n          18.493105547643292\n        ],\n        \"semantic_type\": \"\",\n        \"description\": \"\"\n      }\n    },\n    {\n      \"column\": \"Count tcp.flags.reset == 1 W=15.0s\",\n      \"properties\": {\n        \"dtype\": \"number\",\n        \"std\": 1570.1431737506368,\n        \"min\": 0.0,\n        \"max\": 4469.0,\n        \"num_unique_values\": 5,\n        \"samples\": [\n          3.7661669277243233,\n          213.0,\n          13.231299572246009\n        ],\n        \"semantic_type\": \"\",\n        \"description\": \"\"\n      }\n    },\n    {\n      \"column\": \"Average frame.len W=15.0s\",\n      \"properties\": {\n        \"dtype\": \"number\",\n        \"std\": 1549.360098008215,\n        \"min\": 54.0,\n        \"max\": 4469.0,\n        \"num_unique_values\": 8,\n        \"samples\": [\n          150.12361138545828,\n          109.84,\n          4469.0\n        ],\n        \"semantic_type\": \"\",\n        \"description\": \"\"\n      }\n    },\n    {\n      \"column\": \"Distinct tcp.srcport W=15.0s In\",\n      \"properties\": {\n        \"dtype\": \"number\",\n        \"std\": 1578.429478032683,\n        \"min\": 0.0,\n        \"max\": 4469.0,\n        \"num_unique_values\": 7,\n        \"samples\": [\n          4469.0,\n          2.8019691206086375,\n          2.0\n        ],\n        \"semantic_type\": \"\",\n        \"description\": \"\"\n      }\n    },\n    {\n      \"column\": \"Percent ssh W=15.0s\",\n      \"properties\": {\n        \"dtype\": \"number\",\n        \"std\": 1579.859342254611,\n        \"min\": 0.0,\n        \"max\": 4469.0,\n        \"num_unique_values\": 8,\n        \"samples\": [\n          0.49618353133798043,\n          0.58,\n          4469.0\n        ],\n        \"semantic_type\": \"\",\n        \"description\": \"\"\n      }\n    }\n  ]\n}"
            }
          },
          "metadata": {},
          "execution_count": 34
        }
      ]
    },
    {
      "cell_type": "code",
      "source": [
        "from sklearn.preprocessing import MinMaxScaler\n",
        "\n",
        "scaler = MinMaxScaler(feature_range=(0,1))\n",
        "X = scaler.fit_transform(X)\n",
        "X"
      ],
      "metadata": {
        "id": "qOjcXOuavu_z",
        "colab": {
          "base_uri": "https://localhost:8080/"
        },
        "outputId": "eb22d34d-fa33-4994-cb86-c51558573a5a"
      },
      "execution_count": null,
      "outputs": [
        {
          "output_type": "execute_result",
          "data": {
            "text/plain": [
              "array([[0.03648425, 0.04979253, 0.        , ..., 0.03824658, 0.04761905,\n",
              "        0.64      ],\n",
              "       [0.00580431, 0.04979253, 0.        , ..., 0.03824658, 0.04761905,\n",
              "        0.64      ],\n",
              "       [0.00082919, 0.04979253, 0.        , ..., 0.03824658, 0.04761905,\n",
              "        0.64      ],\n",
              "       ...,\n",
              "       [0.05327529, 0.04979253, 0.        , ..., 0.03824658, 0.04761905,\n",
              "        0.64      ],\n",
              "       [0.16666667, 0.32572614, 0.00892857, ..., 0.16276227, 0.14285714,\n",
              "        0.60126582],\n",
              "       [0.71268657, 0.17427386, 0.        , ..., 0.03974214, 0.14285714,\n",
              "        0.54117647]])"
            ]
          },
          "metadata": {},
          "execution_count": 50
        }
      ]
    },
    {
      "cell_type": "code",
      "source": [
        "X = (X - X.mean()) / X.std()\n",
        "X.head(5)"
      ],
      "metadata": {
        "colab": {
          "base_uri": "https://localhost:8080/",
          "height": 159
        },
        "id": "DOwSTRzGzxG1",
        "outputId": "6e80555b-46ad-4934-86d9-41abbe4c03ac"
      },
      "execution_count": null,
      "outputs": [
        {
          "output_type": "error",
          "ename": "AttributeError",
          "evalue": "'numpy.ndarray' object has no attribute 'head'",
          "traceback": [
            "\u001b[0;31m---------------------------------------------------------------------------\u001b[0m",
            "\u001b[0;31mAttributeError\u001b[0m                            Traceback (most recent call last)",
            "\u001b[0;32m<ipython-input-51-cc84d6358949>\u001b[0m in \u001b[0;36m<cell line: 2>\u001b[0;34m()\u001b[0m\n\u001b[1;32m      1\u001b[0m \u001b[0mX\u001b[0m \u001b[0;34m=\u001b[0m \u001b[0;34m(\u001b[0m\u001b[0mX\u001b[0m \u001b[0;34m-\u001b[0m \u001b[0mX\u001b[0m\u001b[0;34m.\u001b[0m\u001b[0mmean\u001b[0m\u001b[0;34m(\u001b[0m\u001b[0;34m)\u001b[0m\u001b[0;34m)\u001b[0m \u001b[0;34m/\u001b[0m \u001b[0mX\u001b[0m\u001b[0;34m.\u001b[0m\u001b[0mstd\u001b[0m\u001b[0;34m(\u001b[0m\u001b[0;34m)\u001b[0m\u001b[0;34m\u001b[0m\u001b[0;34m\u001b[0m\u001b[0m\n\u001b[0;32m----> 2\u001b[0;31m \u001b[0mX\u001b[0m\u001b[0;34m.\u001b[0m\u001b[0mhead\u001b[0m\u001b[0;34m(\u001b[0m\u001b[0;36m5\u001b[0m\u001b[0;34m)\u001b[0m\u001b[0;34m\u001b[0m\u001b[0;34m\u001b[0m\u001b[0m\n\u001b[0m",
            "\u001b[0;31mAttributeError\u001b[0m: 'numpy.ndarray' object has no attribute 'head'"
          ]
        }
      ]
    },
    {
      "cell_type": "code",
      "source": [
        "X_train, X_test, y_train, y_test = train_test_split(X, y, test_size=0.2, random_state=42)"
      ],
      "metadata": {
        "id": "UEfcuvIlwkMj"
      },
      "execution_count": null,
      "outputs": []
    },
    {
      "cell_type": "code",
      "source": [
        "model = Sequential()\n",
        "model.add(Dense(100, activation='relu', input_dim=X.shape[1]))\n",
        "model.add(Dropout(0.1))\n",
        "model.add(Dense(64, activation='relu', input_dim=X.shape[1]))\n",
        "model.add(Dropout(0.1))\n",
        "model.add(Dense(32, activation='relu'))\n",
        "model.add(Dropout(0.1))\n",
        "model.add(Dense(1, activation='sigmoid'))"
      ],
      "metadata": {
        "id": "QlVAzPJ9wqGk"
      },
      "execution_count": null,
      "outputs": []
    },
    {
      "cell_type": "code",
      "source": [
        "model.compile(loss='binary_crossentropy', optimizer='adam', metrics=['accuracy'])\n",
        "model.fit(X_train, y_train, epochs=10, batch_size=32, validation_split=0.1)"
      ],
      "metadata": {
        "colab": {
          "base_uri": "https://localhost:8080/"
        },
        "id": "XAGIy_VlyHfF",
        "outputId": "6dddb56a-68ee-43d9-ae40-6ed33c3cb1ec"
      },
      "execution_count": null,
      "outputs": [
        {
          "output_type": "stream",
          "name": "stdout",
          "text": [
            "Epoch 1/10\n",
            "101/101 [==============================] - 2s 5ms/step - loss: 0.3566 - accuracy: 0.8729 - val_loss: 0.2443 - val_accuracy: 0.9022\n",
            "Epoch 2/10\n",
            "101/101 [==============================] - 0s 3ms/step - loss: 0.2171 - accuracy: 0.9329 - val_loss: 0.2183 - val_accuracy: 0.9078\n",
            "Epoch 3/10\n",
            "101/101 [==============================] - 0s 3ms/step - loss: 0.1932 - accuracy: 0.9350 - val_loss: 0.2021 - val_accuracy: 0.9190\n",
            "Epoch 4/10\n",
            "101/101 [==============================] - 0s 3ms/step - loss: 0.1779 - accuracy: 0.9403 - val_loss: 0.1978 - val_accuracy: 0.9302\n",
            "Epoch 5/10\n",
            "101/101 [==============================] - 0s 3ms/step - loss: 0.1640 - accuracy: 0.9450 - val_loss: 0.1855 - val_accuracy: 0.9385\n",
            "Epoch 6/10\n",
            "101/101 [==============================] - 0s 3ms/step - loss: 0.1605 - accuracy: 0.9475 - val_loss: 0.1738 - val_accuracy: 0.9385\n",
            "Epoch 7/10\n",
            "101/101 [==============================] - 0s 3ms/step - loss: 0.1590 - accuracy: 0.9478 - val_loss: 0.1662 - val_accuracy: 0.9497\n",
            "Epoch 8/10\n",
            "101/101 [==============================] - 0s 3ms/step - loss: 0.1534 - accuracy: 0.9478 - val_loss: 0.1688 - val_accuracy: 0.9441\n",
            "Epoch 9/10\n",
            "101/101 [==============================] - 0s 3ms/step - loss: 0.1435 - accuracy: 0.9524 - val_loss: 0.1483 - val_accuracy: 0.9581\n",
            "Epoch 10/10\n",
            "101/101 [==============================] - 0s 3ms/step - loss: 0.1435 - accuracy: 0.9506 - val_loss: 0.1521 - val_accuracy: 0.9469\n"
          ]
        },
        {
          "output_type": "execute_result",
          "data": {
            "text/plain": [
              "<keras.src.callbacks.History at 0x7cda610ddba0>"
            ]
          },
          "metadata": {},
          "execution_count": 54
        }
      ]
    },
    {
      "cell_type": "code",
      "source": [
        "score = model.evaluate(X_test, y_test)\n",
        "print('Precisión:', score[1])"
      ],
      "metadata": {
        "colab": {
          "base_uri": "https://localhost:8080/"
        },
        "id": "ExuS2FJRzSf1",
        "outputId": "b8bec0c1-4fc1-4701-ab6c-56d1a658dab0"
      },
      "execution_count": null,
      "outputs": [
        {
          "output_type": "stream",
          "name": "stdout",
          "text": [
            "28/28 [==============================] - 0s 3ms/step - loss: 0.1309 - accuracy: 0.9541\n",
            "Precisión: 0.9541386961936951\n"
          ]
        }
      ]
    },
    {
      "cell_type": "markdown",
      "source": [
        "## Red LSTM con ataques multiclases"
      ],
      "metadata": {
        "id": "tV2AnbpgD5aL"
      }
    },
    {
      "cell_type": "code",
      "source": [
        "df = pd.read_csv(\"S1_balanced.csv\")\n",
        "\n",
        "df[\"TCP count\"] = df[\"Count tcp W=15.0s\"]\n",
        "df[\"Syn flag\"] = df[\"Count tcp.flags.syn == 1 W=15.0s In\"]\n",
        "df[\"Reset flag\"] = df[\"Count tcp.flags.reset == 1 W=15.0s\"]\n",
        "df[\"Avg frame len\"] = df[\"Average frame.len W=15.0s\"]\n",
        "df[\"Distinct port\"] = df[\"Distinct tcp.srcport W=15.0s In\"]\n",
        "df[\"Percent ssh\"] = df[\"Percent ssh W=15.0s\"]\n",
        "df.drop([\"Count tcp.flags.syn == 1 W=15.0s In\", \"Count tcp.flags.reset == 1 W=15.0s\",\n",
        "         \"Average frame.len W=15.0s\", \"Distinct tcp.srcport W=15.0s In\", \"Percent ssh W=15.0s\", \"Count tcp W=15.0s\", \"Index\", \"Time\", \"Reset flag\"], axis=1, inplace=True)\n",
        "\n",
        "df.info()"
      ],
      "metadata": {
        "colab": {
          "base_uri": "https://localhost:8080/"
        },
        "id": "iYfr0arpNQlr",
        "outputId": "61f64b59-b614-446c-cd38-36eb4df6d61b"
      },
      "execution_count": null,
      "outputs": [
        {
          "output_type": "stream",
          "name": "stdout",
          "text": [
            "<class 'pandas.core.frame.DataFrame'>\n",
            "RangeIndex: 319440 entries, 0 to 319439\n",
            "Data columns (total 7 columns):\n",
            " #   Column         Non-Null Count   Dtype  \n",
            "---  ------         --------------   -----  \n",
            " 0   Attacks        5324 non-null    float64\n",
            " 1   Power          319440 non-null  float64\n",
            " 2   TCP count      319440 non-null  float64\n",
            " 3   Syn flag       319440 non-null  float64\n",
            " 4   Avg frame len  277495 non-null  float64\n",
            " 5   Distinct port  319440 non-null  float64\n",
            " 6   Percent ssh    277495 non-null  float64\n",
            "dtypes: float64(7)\n",
            "memory usage: 17.1 MB\n"
          ]
        }
      ]
    },
    {
      "cell_type": "code",
      "source": [
        "df[\"Attacks\"] = df[\"Attacks\"].fillna(0)"
      ],
      "metadata": {
        "id": "Ip8r89VOKLsd"
      },
      "execution_count": null,
      "outputs": []
    },
    {
      "cell_type": "code",
      "source": [
        "df = df.dropna()\n",
        "df.info()"
      ],
      "metadata": {
        "colab": {
          "base_uri": "https://localhost:8080/"
        },
        "id": "__Wx5S-oNZ34",
        "outputId": "59a009b4-6651-445d-a247-074fd6d8ab5a"
      },
      "execution_count": null,
      "outputs": [
        {
          "output_type": "stream",
          "name": "stdout",
          "text": [
            "<class 'pandas.core.frame.DataFrame'>\n",
            "Index: 277495 entries, 4 to 319439\n",
            "Data columns (total 7 columns):\n",
            " #   Column         Non-Null Count   Dtype  \n",
            "---  ------         --------------   -----  \n",
            " 0   Attacks        277495 non-null  float64\n",
            " 1   Power          277495 non-null  float64\n",
            " 2   TCP count      277495 non-null  float64\n",
            " 3   Syn flag       277495 non-null  float64\n",
            " 4   Avg frame len  277495 non-null  float64\n",
            " 5   Distinct port  277495 non-null  float64\n",
            " 6   Percent ssh    277495 non-null  float64\n",
            "dtypes: float64(7)\n",
            "memory usage: 16.9 MB\n"
          ]
        }
      ]
    },
    {
      "cell_type": "code",
      "source": [
        "df_c = df.head(8000)\n",
        "df_c.info()"
      ],
      "metadata": {
        "colab": {
          "base_uri": "https://localhost:8080/"
        },
        "id": "CGZ3N8xoNdBZ",
        "outputId": "3a393f07-8b2d-48fb-a48d-0e3e5d482950"
      },
      "execution_count": null,
      "outputs": [
        {
          "output_type": "stream",
          "name": "stdout",
          "text": [
            "<class 'pandas.core.frame.DataFrame'>\n",
            "Index: 8000 entries, 4 to 9412\n",
            "Data columns (total 7 columns):\n",
            " #   Column         Non-Null Count  Dtype  \n",
            "---  ------         --------------  -----  \n",
            " 0   Attacks        8000 non-null   float64\n",
            " 1   Power          8000 non-null   float64\n",
            " 2   TCP count      8000 non-null   float64\n",
            " 3   Syn flag       8000 non-null   float64\n",
            " 4   Avg frame len  8000 non-null   float64\n",
            " 5   Distinct port  8000 non-null   float64\n",
            " 6   Percent ssh    8000 non-null   float64\n",
            "dtypes: float64(7)\n",
            "memory usage: 500.0 KB\n"
          ]
        }
      ]
    },
    {
      "cell_type": "code",
      "source": [
        "X = df_c\n",
        "y = X[\"Attacks\"]\n",
        "X.drop([\"Attacks\"], axis=1, inplace=True)\n",
        "X_train, X_test, y_train, y_test = train_test_split(X, y, train_size=0.7, test_size=0.3, random_state=42)"
      ],
      "metadata": {
        "id": "ZqQLhFD4dz2V",
        "colab": {
          "base_uri": "https://localhost:8080/"
        },
        "outputId": "4cc73565-ea61-42e6-89b9-dc9bd1f40475"
      },
      "execution_count": null,
      "outputs": [
        {
          "output_type": "stream",
          "name": "stderr",
          "text": [
            "<ipython-input-79-167b91d033fc>:3: SettingWithCopyWarning: \n",
            "A value is trying to be set on a copy of a slice from a DataFrame\n",
            "\n",
            "See the caveats in the documentation: https://pandas.pydata.org/pandas-docs/stable/user_guide/indexing.html#returning-a-view-versus-a-copy\n",
            "  X.drop([\"Attacks\"], axis=1, inplace=True)\n"
          ]
        }
      ]
    },
    {
      "cell_type": "markdown",
      "source": [
        " **Normalizar los datos**\n",
        "\n",
        " La normalización consiste en escalar los datos para que tengan una media de 0 y una desviación estándar de 1"
      ],
      "metadata": {
        "id": "SeSlN5Z_fg3f"
      }
    },
    {
      "cell_type": "code",
      "source": [
        "from sklearn.preprocessing import MinMaxScaler\n",
        "\n",
        "scaler = MinMaxScaler(feature_range=(0,1))\n",
        "X_train = scaler.fit_transform(X_train)"
      ],
      "metadata": {
        "id": "W_Ej0IPhenCD"
      },
      "execution_count": null,
      "outputs": []
    },
    {
      "cell_type": "markdown",
      "source": [
        "**Arquitectura de la red neuronal recurrente**"
      ],
      "metadata": {
        "id": "WtzWcMrnf1yg"
      }
    },
    {
      "cell_type": "code",
      "source": [
        "model = Sequential()\n",
        "model.add(LSTM(64, return_sequences=True, input_shape=(X_train.shape[1], 1)))\n",
        "model.add(LSTM(32, return_sequences=True))\n",
        "model.add(LSTM(32))\n",
        "model.add(Dense(1, activation='sigmoid'))"
      ],
      "metadata": {
        "id": "0NMnKDRffbkl"
      },
      "execution_count": null,
      "outputs": []
    },
    {
      "cell_type": "code",
      "source": [
        "model.compile(loss='mean_squared_error', optimizer='adam')\n",
        "model.fit(X_train, y_train, epochs=10, batch_size=1, verbose=2)"
      ],
      "metadata": {
        "colab": {
          "base_uri": "https://localhost:8080/"
        },
        "id": "hMeNjuk2QIY7",
        "outputId": "f68b528b-cfc8-43b7-a61a-5b219172fae7"
      },
      "execution_count": null,
      "outputs": [
        {
          "output_type": "stream",
          "name": "stdout",
          "text": [
            "Epoch 1/10\n",
            "5600/5600 - 36s - loss: 4.1892 - 36s/epoch - 6ms/step\n",
            "Epoch 2/10\n",
            "5600/5600 - 37s - loss: 4.1856 - 37s/epoch - 7ms/step\n",
            "Epoch 3/10\n",
            "5600/5600 - 40s - loss: 4.1816 - 40s/epoch - 7ms/step\n",
            "Epoch 4/10\n",
            "5600/5600 - 38s - loss: 4.1838 - 38s/epoch - 7ms/step\n",
            "Epoch 5/10\n",
            "5600/5600 - 38s - loss: 4.1779 - 38s/epoch - 7ms/step\n",
            "Epoch 6/10\n",
            "5600/5600 - 39s - loss: 4.1742 - 39s/epoch - 7ms/step\n",
            "Epoch 7/10\n",
            "5600/5600 - 32s - loss: 4.1803 - 32s/epoch - 6ms/step\n",
            "Epoch 8/10\n",
            "5600/5600 - 41s - loss: 4.1756 - 41s/epoch - 7ms/step\n",
            "Epoch 9/10\n",
            "5600/5600 - 29s - loss: 4.1700 - 29s/epoch - 5ms/step\n",
            "Epoch 10/10\n",
            "5600/5600 - 29s - loss: 4.1622 - 29s/epoch - 5ms/step\n"
          ]
        },
        {
          "output_type": "execute_result",
          "data": {
            "text/plain": [
              "<keras.src.callbacks.History at 0x7b08efa0a650>"
            ]
          },
          "metadata": {},
          "execution_count": 82
        }
      ]
    },
    {
      "cell_type": "code",
      "source": [
        "model.evaluate(X_test, y_test)"
      ],
      "metadata": {
        "id": "ogYmTVRwhxx1",
        "colab": {
          "base_uri": "https://localhost:8080/"
        },
        "outputId": "51e9cd9f-4336-473f-8b92-6e1b98d8756b"
      },
      "execution_count": null,
      "outputs": [
        {
          "output_type": "stream",
          "name": "stdout",
          "text": [
            "75/75 [==============================] - 1s 3ms/step - loss: 0.7636\n"
          ]
        },
        {
          "output_type": "execute_result",
          "data": {
            "text/plain": [
              "0.7635675668716431"
            ]
          },
          "metadata": {},
          "execution_count": 64
        }
      ]
    },
    {
      "cell_type": "code",
      "source": [
        "from math import sqrt\n",
        "from sklearn.metrics import mean_squared_error\n",
        "\n",
        "y_pred = model.predict(X_test)\n",
        "\n",
        "mse = mean_squared_error(y_test, y_pred)\n",
        "print(\"Mean Squared Error:\", mse)\n",
        "rmse = sqrt(mean_squared_error(y_test, y_pred))\n",
        "print(\"Root Mean Squared Error:\", rmse)"
      ],
      "metadata": {
        "colab": {
          "base_uri": "https://localhost:8080/"
        },
        "id": "6Sy2TivIQPsi",
        "outputId": "04287a31-d830-4511-984a-e6876c417f88"
      },
      "execution_count": null,
      "outputs": [
        {
          "output_type": "stream",
          "name": "stdout",
          "text": [
            "75/75 [==============================] - 1s 3ms/step\n",
            "Mean Squared Error: 0.7635674923720345\n",
            "Root Mean Squared Error: 0.8738234903983954\n"
          ]
        }
      ]
    },
    {
      "cell_type": "code",
      "source": [
        "y_pred_bin = np.round(y_pred)\n",
        "\n",
        "confusion_matrix = metrics.confusion_matrix(y_test, y_pred_bin)\n",
        "\n",
        "cm_display = metrics.ConfusionMatrixDisplay(confusion_matrix = confusion_matrix)\n",
        "\n",
        "cm_display.plot()\n",
        "plt.show()"
      ],
      "metadata": {
        "colab": {
          "base_uri": "https://localhost:8080/",
          "height": 449
        },
        "id": "igQT5o5eQQcz",
        "outputId": "20812984-c45c-467d-c1f6-59fb8150f710"
      },
      "execution_count": null,
      "outputs": [
        {
          "output_type": "display_data",
          "data": {
            "text/plain": [
              "<Figure size 640x480 with 2 Axes>"
            ],
            "image/png": "[encoded data removed]"
          },
          "metadata": {}
        }
      ]
    },
    {
      "cell_type": "markdown",
      "source": [
        "# Red LSTM con ataques binarios"
      ],
      "metadata": {
        "id": "YmHNXg3JOK8X"
      }
    },
    {
      "cell_type": "code",
      "source": [
        "import tensorflow as tf\n",
        "import pandas as pd\n",
        "import numpy as np\n",
        "import matplotlib.pyplot as plt\n",
        "from sklearn.model_selection import train_test_split\n",
        "from sklearn.preprocessing import StandardScaler\n",
        "from tensorflow import keras\n",
        "from tensorflow.keras.models import Sequential\n",
        "from tensorflow.keras.layers import Embedding, LSTM, Dense, Dropout, Input, Concatenate\n",
        "from sklearn.feature_selection import chi2 # Calidad de las características\n",
        "from sklearn.feature_selection import VarianceThreshold # Analizar caracterisitcas constates usando la varianza de los datos\n",
        "from sklearn.metrics import accuracy_score, recall_score, precision_score, confusion_matrix\n",
        "from sklearn import metrics\n",
        "from tensorflow.keras import layers"
      ],
      "metadata": {
        "id": "QBsd2aXD6GfY"
      },
      "execution_count": null,
      "outputs": []
    },
    {
      "cell_type": "code",
      "source": [
        "df = pd.read_csv(\"S1_balanced.csv\")\n",
        "\n",
        "df[\"TCP count\"] = df[\"Count tcp W=15.0s\"]\n",
        "df[\"Syn flag\"] = df[\"Count tcp.flags.syn == 1 W=15.0s In\"]\n",
        "df[\"Reset flag\"] = df[\"Count tcp.flags.reset == 1 W=15.0s\"]\n",
        "df[\"Avg frame len\"] = df[\"Average frame.len W=15.0s\"]\n",
        "df[\"Distinct port\"] = df[\"Distinct tcp.srcport W=15.0s In\"]\n",
        "df[\"Percent ssh\"] = df[\"Percent ssh W=15.0s\"]\n",
        "df.drop([\"Count tcp.flags.syn == 1 W=15.0s In\", \"Count tcp.flags.reset == 1 W=15.0s\",\n",
        "         \"Average frame.len W=15.0s\", \"Distinct tcp.srcport W=15.0s In\", \"Percent ssh W=15.0s\", \"Count tcp W=15.0s\", \"Index\", \"Time\", \"Reset flag\"], axis=1, inplace=True)\n",
        "\n",
        "df.info()"
      ],
      "metadata": {
        "colab": {
          "base_uri": "https://localhost:8080/"
        },
        "id": "jRQNRVyGOKcj",
        "outputId": "172e8e40-f42d-494e-96f2-ba000450a518"
      },
      "execution_count": null,
      "outputs": [
        {
          "output_type": "stream",
          "name": "stdout",
          "text": [
            "<class 'pandas.core.frame.DataFrame'>\n",
            "RangeIndex: 319440 entries, 0 to 319439\n",
            "Data columns (total 7 columns):\n",
            " #   Column         Non-Null Count   Dtype  \n",
            "---  ------         --------------   -----  \n",
            " 0   Attacks        5324 non-null    float64\n",
            " 1   Power          319440 non-null  float64\n",
            " 2   TCP count      319440 non-null  float64\n",
            " 3   Syn flag       319440 non-null  float64\n",
            " 4   Avg frame len  277495 non-null  float64\n",
            " 5   Distinct port  319440 non-null  float64\n",
            " 6   Percent ssh    277495 non-null  float64\n",
            "dtypes: float64(7)\n",
            "memory usage: 17.1 MB\n"
          ]
        }
      ]
    },
    {
      "cell_type": "code",
      "source": [
        "columns = df.columns\n",
        "df[columns].corr()"
      ],
      "metadata": {
        "colab": {
          "base_uri": "https://localhost:8080/",
          "height": 269
        },
        "id": "5ENoDVN-585W",
        "outputId": "b7a68bf9-4960-423d-cff0-b2e80c5ddda6"
      },
      "execution_count": null,
      "outputs": [
        {
          "output_type": "execute_result",
          "data": {
            "text/plain": [
              "                Attacks     Power  TCP count  Syn flag  Avg frame len  \\\n",
              "Attacks        1.000000 -0.005040   0.018177  0.478333      -0.188305   \n",
              "Power         -0.005040  1.000000   0.241182 -0.004736       0.204749   \n",
              "TCP count      0.018177  0.241182   1.000000  0.751469       0.126930   \n",
              "Syn flag       0.478333 -0.004736   0.751469  1.000000      -0.189174   \n",
              "Avg frame len -0.188305  0.204749   0.126930 -0.189174       1.000000   \n",
              "Distinct port -0.113422  0.284421   0.458587  0.011746       0.033200   \n",
              "Percent ssh   -0.751052 -0.003866  -0.514886 -0.633338       0.008267   \n",
              "\n",
              "               Distinct port  Percent ssh  \n",
              "Attacks            -0.113422    -0.751052  \n",
              "Power               0.284421    -0.003866  \n",
              "TCP count           0.458587    -0.514886  \n",
              "Syn flag            0.011746    -0.633338  \n",
              "Avg frame len       0.033200     0.008267  \n",
              "Distinct port       1.000000    -0.025825  \n",
              "Percent ssh        -0.025825     1.000000  "
            ],
            "text/html": [
              "\n",
              "  <div id=\"df-8b7ac8a1-7ad8-45bf-8178-8095569aa0ef\" class=\"colab-df-container\">\n",
              "    <div>\n",
              "<style scoped>\n",
              "    .dataframe tbody tr th:only-of-type {\n",
              "        vertical-align: middle;\n",
              "    }\n",
              "\n",
              "    .dataframe tbody tr th {\n",
              "        vertical-align: top;\n",
              "    }\n",
              "\n",
              "    .dataframe thead th {\n",
              "        text-align: right;\n",
              "    }\n",
              "</style>\n",
              "<table border=\"1\" class=\"dataframe\">\n",
              "  <thead>\n",
              "    <tr style=\"text-align: right;\">\n",
              "      <th></th>\n",
              "      <th>Attacks</th>\n",
              "      <th>Power</th>\n",
              "      <th>TCP count</th>\n",
              "      <th>Syn flag</th>\n",
              "      <th>Avg frame len</th>\n",
              "      <th>Distinct port</th>\n",
              "      <th>Percent ssh</th>\n",
              "    </tr>\n",
              "  </thead>\n",
              "  <tbody>\n",
              "    <tr>\n",
              "      <th>Attacks</th>\n",
              "      <td>1.000000</td>\n",
              "      <td>-0.005040</td>\n",
              "      <td>0.018177</td>\n",
              "      <td>0.478333</td>\n",
              "      <td>-0.188305</td>\n",
              "      <td>-0.113422</td>\n",
              "      <td>-0.751052</td>\n",
              "    </tr>\n",
              "    <tr>\n",
              "      <th>Power</th>\n",
              "      <td>-0.005040</td>\n",
              "      <td>1.000000</td>\n",
              "      <td>0.241182</td>\n",
              "      <td>-0.004736</td>\n",
              "      <td>0.204749</td>\n",
              "      <td>0.284421</td>\n",
              "      <td>-0.003866</td>\n",
              "    </tr>\n",
              "    <tr>\n",
              "      <th>TCP count</th>\n",
              "      <td>0.018177</td>\n",
              "      <td>0.241182</td>\n",
              "      <td>1.000000</td>\n",
              "      <td>0.751469</td>\n",
              "      <td>0.126930</td>\n",
              "      <td>0.458587</td>\n",
              "      <td>-0.514886</td>\n",
              "    </tr>\n",
              "    <tr>\n",
              "      <th>Syn flag</th>\n",
              "      <td>0.478333</td>\n",
              "      <td>-0.004736</td>\n",
              "      <td>0.751469</td>\n",
              "      <td>1.000000</td>\n",
              "      <td>-0.189174</td>\n",
              "      <td>0.011746</td>\n",
              "      <td>-0.633338</td>\n",
              "    </tr>\n",
              "    <tr>\n",
              "      <th>Avg frame len</th>\n",
              "      <td>-0.188305</td>\n",
              "      <td>0.204749</td>\n",
              "      <td>0.126930</td>\n",
              "      <td>-0.189174</td>\n",
              "      <td>1.000000</td>\n",
              "      <td>0.033200</td>\n",
              "      <td>0.008267</td>\n",
              "    </tr>\n",
              "    <tr>\n",
              "      <th>Distinct port</th>\n",
              "      <td>-0.113422</td>\n",
              "      <td>0.284421</td>\n",
              "      <td>0.458587</td>\n",
              "      <td>0.011746</td>\n",
              "      <td>0.033200</td>\n",
              "      <td>1.000000</td>\n",
              "      <td>-0.025825</td>\n",
              "    </tr>\n",
              "    <tr>\n",
              "      <th>Percent ssh</th>\n",
              "      <td>-0.751052</td>\n",
              "      <td>-0.003866</td>\n",
              "      <td>-0.514886</td>\n",
              "      <td>-0.633338</td>\n",
              "      <td>0.008267</td>\n",
              "      <td>-0.025825</td>\n",
              "      <td>1.000000</td>\n",
              "    </tr>\n",
              "  </tbody>\n",
              "</table>\n",
              "</div>\n",
              "    <div class=\"colab-df-buttons\">\n",
              "\n",
              "  <div class=\"colab-df-container\">\n",
              "    <button class=\"colab-df-convert\" onclick=\"convertToInteractive('df-8b7ac8a1-7ad8-45bf-8178-8095569aa0ef')\"\n",
              "            title=\"Convert this dataframe to an interactive table.\"\n",
              "            style=\"display:none;\">\n",
              "\n",
              "  <svg xmlns=\"http://www.w3.org/2000/svg\" height=\"24px\" viewBox=\"0 -960 960 960\">\n",
              "    <path d=\"M120-120v-720h720v720H120Zm60-500h600v-160H180v160Zm220 220h160v-160H400v160Zm0 220h160v-160H400v160ZM180-400h160v-160H180v160Zm440 0h160v-160H620v160ZM180-180h160v-160H180v160Zm440 0h160v-160H620v160Z\"/>\n",
              "  </svg>\n",
              "    </button>\n",
              "\n",
              "  <style>\n",
              "    .colab-df-container {\n",
              "      display:flex;\n",
              "      gap: 12px;\n",
              "    }\n",
              "\n",
              "    .colab-df-convert {\n",
              "      background-color: #E8F0FE;\n",
              "      border: none;\n",
              "      border-radius: 50%;\n",
              "      cursor: pointer;\n",
              "      display: none;\n",
              "      fill: #1967D2;\n",
              "      height: 32px;\n",
              "      padding: 0 0 0 0;\n",
              "      width: 32px;\n",
              "    }\n",
              "\n",
              "    .colab-df-convert:hover {\n",
              "      background-color: #E2EBFA;\n",
              "      box-shadow: 0px 1px 2px rgba(60, 64, 67, 0.3), 0px 1px 3px 1px rgba(60, 64, 67, 0.15);\n",
              "      fill: #174EA6;\n",
              "    }\n",
              "\n",
              "    .colab-df-buttons div {\n",
              "      margin-bottom: 4px;\n",
              "    }\n",
              "\n",
              "    [theme=dark] .colab-df-convert {\n",
              "      background-color: #3B4455;\n",
              "      fill: #D2E3FC;\n",
              "    }\n",
              "\n",
              "    [theme=dark] .colab-df-convert:hover {\n",
              "      background-color: #434B5C;\n",
              "      box-shadow: 0px 1px 3px 1px rgba(0, 0, 0, 0.15);\n",
              "      filter: drop-shadow(0px 1px 2px rgba(0, 0, 0, 0.3));\n",
              "      fill: #FFFFFF;\n",
              "    }\n",
              "  </style>\n",
              "\n",
              "    <script>\n",
              "      const buttonEl =\n",
              "        document.querySelector('#df-8b7ac8a1-7ad8-45bf-8178-8095569aa0ef button.colab-df-convert');\n",
              "      buttonEl.style.display =\n",
              "        google.colab.kernel.accessAllowed ? 'block' : 'none';\n",
              "\n",
              "      async function convertToInteractive(key) {\n",
              "        const element = document.querySelector('#df-8b7ac8a1-7ad8-45bf-8178-8095569aa0ef');\n",
              "        const dataTable =\n",
              "          await google.colab.kernel.invokeFunction('convertToInteractive',\n",
              "                                                    [key], {});\n",
              "        if (!dataTable) return;\n",
              "\n",
              "        const docLinkHtml = 'Like what you see? Visit the ' +\n",
              "          '<a target=\"_blank\" href=https://colab.research.google.com/notebooks/data_table.ipynb>data table notebook</a>'\n",
              "          + ' to learn more about interactive tables.';\n",
              "        element.innerHTML = '';\n",
              "        dataTable['output_type'] = 'display_data';\n",
              "        await google.colab.output.renderOutput(dataTable, element);\n",
              "        const docLink = document.createElement('div');\n",
              "        docLink.innerHTML = docLinkHtml;\n",
              "        element.appendChild(docLink);\n",
              "      }\n",
              "    </script>\n",
              "  </div>\n",
              "\n",
              "\n",
              "<div id=\"df-6b9aa7b0-b82a-4d14-a0ac-cd3d7a902cb3\">\n",
              "  <button class=\"colab-df-quickchart\" onclick=\"quickchart('df-6b9aa7b0-b82a-4d14-a0ac-cd3d7a902cb3')\"\n",
              "            title=\"Suggest charts\"\n",
              "            style=\"display:none;\">\n",
              "\n",
              "<svg xmlns=\"http://www.w3.org/2000/svg\" height=\"24px\"viewBox=\"0 0 24 24\"\n",
              "     width=\"24px\">\n",
              "    <g>\n",
              "        <path d=\"M19 3H5c-1.1 0-2 .9-2 2v14c0 1.1.9 2 2 2h14c1.1 0 2-.9 2-2V5c0-1.1-.9-2-2-2zM9 17H7v-7h2v7zm4 0h-2V7h2v10zm4 0h-2v-4h2v4z\"/>\n",
              "    </g>\n",
              "</svg>\n",
              "  </button>\n",
              "\n",
              "<style>\n",
              "  .colab-df-quickchart {\n",
              "      --bg-color: #E8F0FE;\n",
              "      --fill-color: #1967D2;\n",
              "      --hover-bg-color: #E2EBFA;\n",
              "      --hover-fill-color: #174EA6;\n",
              "      --disabled-fill-color: #AAA;\n",
              "      --disabled-bg-color: #DDD;\n",
              "  }\n",
              "\n",
              "  [theme=dark] .colab-df-quickchart {\n",
              "      --bg-color: #3B4455;\n",
              "      --fill-color: #D2E3FC;\n",
              "      --hover-bg-color: #434B5C;\n",
              "      --hover-fill-color: #FFFFFF;\n",
              "      --disabled-bg-color: #3B4455;\n",
              "      --disabled-fill-color: #666;\n",
              "  }\n",
              "\n",
              "  .colab-df-quickchart {\n",
              "    background-color: var(--bg-color);\n",
              "    border: none;\n",
              "    border-radius: 50%;\n",
              "    cursor: pointer;\n",
              "    display: none;\n",
              "    fill: var(--fill-color);\n",
              "    height: 32px;\n",
              "    padding: 0;\n",
              "    width: 32px;\n",
              "  }\n",
              "\n",
              "  .colab-df-quickchart:hover {\n",
              "    background-color: var(--hover-bg-color);\n",
              "    box-shadow: 0 1px 2px rgba(60, 64, 67, 0.3), 0 1px 3px 1px rgba(60, 64, 67, 0.15);\n",
              "    fill: var(--button-hover-fill-color);\n",
              "  }\n",
              "\n",
              "  .colab-df-quickchart-complete:disabled,\n",
              "  .colab-df-quickchart-complete:disabled:hover {\n",
              "    background-color: var(--disabled-bg-color);\n",
              "    fill: var(--disabled-fill-color);\n",
              "    box-shadow: none;\n",
              "  }\n",
              "\n",
              "  .colab-df-spinner {\n",
              "    border: 2px solid var(--fill-color);\n",
              "    border-color: transparent;\n",
              "    border-bottom-color: var(--fill-color);\n",
              "    animation:\n",
              "      spin 1s steps(1) infinite;\n",
              "  }\n",
              "\n",
              "  @keyframes spin {\n",
              "    0% {\n",
              "      border-color: transparent;\n",
              "      border-bottom-color: var(--fill-color);\n",
              "      border-left-color: var(--fill-color);\n",
              "    }\n",
              "    20% {\n",
              "      border-color: transparent;\n",
              "      border-left-color: var(--fill-color);\n",
              "      border-top-color: var(--fill-color);\n",
              "    }\n",
              "    30% {\n",
              "      border-color: transparent;\n",
              "      border-left-color: var(--fill-color);\n",
              "      border-top-color: var(--fill-color);\n",
              "      border-right-color: var(--fill-color);\n",
              "    }\n",
              "    40% {\n",
              "      border-color: transparent;\n",
              "      border-right-color: var(--fill-color);\n",
              "      border-top-color: var(--fill-color);\n",
              "    }\n",
              "    60% {\n",
              "      border-color: transparent;\n",
              "      border-right-color: var(--fill-color);\n",
              "    }\n",
              "    80% {\n",
              "      border-color: transparent;\n",
              "      border-right-color: var(--fill-color);\n",
              "      border-bottom-color: var(--fill-color);\n",
              "    }\n",
              "    90% {\n",
              "      border-color: transparent;\n",
              "      border-bottom-color: var(--fill-color);\n",
              "    }\n",
              "  }\n",
              "</style>\n",
              "\n",
              "  <script>\n",
              "    async function quickchart(key) {\n",
              "      const quickchartButtonEl =\n",
              "        document.querySelector('#' + key + ' button');\n",
              "      quickchartButtonEl.disabled = true;  // To prevent multiple clicks.\n",
              "      quickchartButtonEl.classList.add('colab-df-spinner');\n",
              "      try {\n",
              "        const charts = await google.colab.kernel.invokeFunction(\n",
              "            'suggestCharts', [key], {});\n",
              "      } catch (error) {\n",
              "        console.error('Error during call to suggestCharts:', error);\n",
              "      }\n",
              "      quickchartButtonEl.classList.remove('colab-df-spinner');\n",
              "      quickchartButtonEl.classList.add('colab-df-quickchart-complete');\n",
              "    }\n",
              "    (() => {\n",
              "      let quickchartButtonEl =\n",
              "        document.querySelector('#df-6b9aa7b0-b82a-4d14-a0ac-cd3d7a902cb3 button');\n",
              "      quickchartButtonEl.style.display =\n",
              "        google.colab.kernel.accessAllowed ? 'block' : 'none';\n",
              "    })();\n",
              "  </script>\n",
              "</div>\n",
              "    </div>\n",
              "  </div>\n"
            ],
            "application/vnd.google.colaboratory.intrinsic+json": {
              "type": "dataframe",
              "summary": "{\n  \"name\": \"df[columns]\",\n  \"rows\": 7,\n  \"fields\": [\n    {\n      \"column\": \"Attacks\",\n      \"properties\": {\n        \"dtype\": \"number\",\n        \"std\": 0.5498588035373808,\n        \"min\": -0.7510518038654609,\n        \"max\": 1.0,\n        \"num_unique_values\": 7,\n        \"samples\": [\n          1.0,\n          -0.005039551665877881,\n          -0.11342247476429375\n        ],\n        \"semantic_type\": \"\",\n        \"description\": \"\"\n      }\n    },\n    {\n      \"column\": \"Power\",\n      \"properties\": {\n        \"dtype\": \"number\",\n        \"std\": 0.35591089261992637,\n        \"min\": -0.005039551665877881,\n        \"max\": 1.0,\n        \"num_unique_values\": 7,\n        \"samples\": [\n          -0.005039551665877881,\n          1.0,\n          0.28442088440116275\n        ],\n        \"semantic_type\": \"\",\n        \"description\": \"\"\n      }\n    },\n    {\n      \"column\": \"TCP count\",\n      \"properties\": {\n        \"dtype\": \"number\",\n        \"std\": 0.4992998665560248,\n        \"min\": -0.5148863506362042,\n        \"max\": 1.0,\n        \"num_unique_values\": 7,\n        \"samples\": [\n          0.01817682337194211,\n          0.24118151117095737,\n          0.4585869931137945\n        ],\n        \"semantic_type\": \"\",\n        \"description\": \"\"\n      }\n    },\n    {\n      \"column\": \"Syn flag\",\n      \"properties\": {\n        \"dtype\": \"number\",\n        \"std\": 0.5693307316467843,\n        \"min\": -0.6333384432839937,\n        \"max\": 1.0,\n        \"num_unique_values\": 7,\n        \"samples\": [\n          0.47833337265750564,\n          -0.004735927291694448,\n          0.011745717162386617\n        ],\n        \"semantic_type\": \"\",\n        \"description\": \"\"\n      }\n    },\n    {\n      \"column\": \"Avg frame len\",\n      \"properties\": {\n        \"dtype\": \"number\",\n        \"std\": 0.4059614608682731,\n        \"min\": -0.1891744026763305,\n        \"max\": 1.0,\n        \"num_unique_values\": 7,\n        \"samples\": [\n          -0.18830548642952083,\n          0.20474946830397406,\n          0.033200059276492035\n        ],\n        \"semantic_type\": \"\",\n        \"description\": \"\"\n      }\n    },\n    {\n      \"column\": \"Distinct port\",\n      \"properties\": {\n        \"dtype\": \"number\",\n        \"std\": 0.3910776424335739,\n        \"min\": -0.11342247476429375,\n        \"max\": 1.0,\n        \"num_unique_values\": 7,\n        \"samples\": [\n          -0.11342247476429375,\n          0.28442088440116275,\n          1.0\n        ],\n        \"semantic_type\": \"\",\n        \"description\": \"\"\n      }\n    },\n    {\n      \"column\": \"Percent ssh\",\n      \"properties\": {\n        \"dtype\": \"number\",\n        \"std\": 0.5930087254933858,\n        \"min\": -0.7510518038654609,\n        \"max\": 1.0,\n        \"num_unique_values\": 7,\n        \"samples\": [\n          -0.7510518038654609,\n          -0.0038660196910597234,\n          -0.025825262074157612\n        ],\n        \"semantic_type\": \"\",\n        \"description\": \"\"\n      }\n    }\n  ]\n}"
            }
          },
          "metadata": {},
          "execution_count": 3
        }
      ]
    },
    {
      "cell_type": "code",
      "source": [
        "df[\"Attacks\"] = df[\"Attacks\"].fillna(0)\n",
        "df[\"Attacks\"] = df[\"Attacks\"].apply(lambda x: 1 if x > 0 else x)"
      ],
      "metadata": {
        "id": "NV4_oomIPSdp"
      },
      "execution_count": null,
      "outputs": []
    },
    {
      "cell_type": "code",
      "source": [
        "df = df.dropna()\n",
        "df.info()"
      ],
      "metadata": {
        "colab": {
          "base_uri": "https://localhost:8080/"
        },
        "id": "yj_iWUSebwBX",
        "outputId": "a92bfbee-4a43-4045-9cf0-63ffd169d878"
      },
      "execution_count": null,
      "outputs": [
        {
          "output_type": "stream",
          "name": "stdout",
          "text": [
            "<class 'pandas.core.frame.DataFrame'>\n",
            "Index: 277495 entries, 4 to 319439\n",
            "Data columns (total 7 columns):\n",
            " #   Column         Non-Null Count   Dtype  \n",
            "---  ------         --------------   -----  \n",
            " 0   Attacks        277495 non-null  float64\n",
            " 1   Power          277495 non-null  float64\n",
            " 2   TCP count      277495 non-null  float64\n",
            " 3   Syn flag       277495 non-null  float64\n",
            " 4   Avg frame len  277495 non-null  float64\n",
            " 5   Distinct port  277495 non-null  float64\n",
            " 6   Percent ssh    277495 non-null  float64\n",
            "dtypes: float64(7)\n",
            "memory usage: 16.9 MB\n"
          ]
        }
      ]
    },
    {
      "cell_type": "code",
      "source": [
        "df_c = df.head(5000)\n",
        "df_c.info()"
      ],
      "metadata": {
        "colab": {
          "base_uri": "https://localhost:8080/"
        },
        "id": "FS28a4eheyec",
        "outputId": "b3b40740-9c36-4298-bf92-4853d2fc7b00"
      },
      "execution_count": null,
      "outputs": [
        {
          "output_type": "stream",
          "name": "stdout",
          "text": [
            "<class 'pandas.core.frame.DataFrame'>\n",
            "Index: 5000 entries, 4 to 5590\n",
            "Data columns (total 7 columns):\n",
            " #   Column         Non-Null Count  Dtype  \n",
            "---  ------         --------------  -----  \n",
            " 0   Attacks        5000 non-null   float64\n",
            " 1   Power          5000 non-null   float64\n",
            " 2   TCP count      5000 non-null   float64\n",
            " 3   Syn flag       5000 non-null   float64\n",
            " 4   Avg frame len  5000 non-null   float64\n",
            " 5   Distinct port  5000 non-null   float64\n",
            " 6   Percent ssh    5000 non-null   float64\n",
            "dtypes: float64(7)\n",
            "memory usage: 312.5 KB\n"
          ]
        }
      ]
    },
    {
      "cell_type": "code",
      "source": [
        "X = df_c\n",
        "y = X[\"Attacks\"]\n",
        "X.drop([\"Attacks\"], axis=1, inplace=True)"
      ],
      "metadata": {
        "colab": {
          "base_uri": "https://localhost:8080/"
        },
        "id": "e9NtSVrBQ0Z3",
        "outputId": "acff2add-fdf8-4607-8be2-cbd860a2799c"
      },
      "execution_count": null,
      "outputs": [
        {
          "output_type": "stream",
          "name": "stderr",
          "text": [
            "<ipython-input-144-365a858a89e7>:3: SettingWithCopyWarning: \n",
            "A value is trying to be set on a copy of a slice from a DataFrame\n",
            "\n",
            "See the caveats in the documentation: https://pandas.pydata.org/pandas-docs/stable/user_guide/indexing.html#returning-a-view-versus-a-copy\n",
            "  X.drop([\"Attacks\"], axis=1, inplace=True)\n"
          ]
        }
      ]
    },
    {
      "cell_type": "code",
      "source": [
        "X_train, X_test, y_train, y_test = train_test_split(X, y, test_size=0.2, random_state=42)"
      ],
      "metadata": {
        "id": "DhHqHiPTektO"
      },
      "execution_count": null,
      "outputs": []
    },
    {
      "cell_type": "code",
      "source": [
        "from sklearn.decomposition import PCA\n",
        "\n",
        "pca = PCA(n_components=4)\n",
        "pca = pca.fit(X_train)"
      ],
      "metadata": {
        "id": "eStdqbSW-tym"
      },
      "execution_count": null,
      "outputs": []
    },
    {
      "cell_type": "code",
      "source": [
        "X_train_pca = pca.transform(X_train)\n",
        "X_test_pca = pca.transform(X_test)"
      ],
      "metadata": {
        "id": "QYFP2lkGGKfD"
      },
      "execution_count": null,
      "outputs": []
    },
    {
      "cell_type": "code",
      "source": [
        "from sklearn.preprocessing import MinMaxScaler\n",
        "\n",
        "scaler = MinMaxScaler(feature_range=(0,1))\n",
        "X_train = scaler.fit_transform(X_train_pca)"
      ],
      "metadata": {
        "id": "0gMAhv3tUSlb"
      },
      "execution_count": null,
      "outputs": []
    },
    {
      "cell_type": "code",
      "source": [
        "num_layers = 6\n",
        "hidden_dim = 256"
      ],
      "metadata": {
        "id": "ajYbEGw1Ne4_"
      },
      "execution_count": null,
      "outputs": []
    },
    {
      "cell_type": "code",
      "source": [
        "model = tf.keras.Sequential()"
      ],
      "metadata": {
        "id": "ypnHC0JYT18e"
      },
      "execution_count": null,
      "outputs": []
    },
    {
      "cell_type": "code",
      "source": [
        "for _ in range(num_layers):\n",
        "    model.add(tf.keras.layers.LSTM(hidden_dim, return_sequences=True))"
      ],
      "metadata": {
        "id": "1ZHYxBlCT4GL"
      },
      "execution_count": null,
      "outputs": []
    },
    {
      "cell_type": "code",
      "source": [
        "model.add(tf.keras.layers.Dense(1, activation='sigmoid'))"
      ],
      "metadata": {
        "id": "y0tcGcX9T7Gv"
      },
      "execution_count": null,
      "outputs": []
    },
    {
      "cell_type": "code",
      "source": [
        "X_train = np.expand_dims(X_train, axis=1)"
      ],
      "metadata": {
        "id": "KeL8QaiNW_Bw"
      },
      "execution_count": null,
      "outputs": []
    },
    {
      "cell_type": "code",
      "source": [
        "model = tf.keras.Sequential([\n",
        "    # Capa de entrada\n",
        "    layers.Input(shape=(7,)),\n",
        "\n",
        "    # Capas recurrentes\n",
        "    layers.LSTM(hidden_dim, return_sequences=True, input_shape=(7,)),\n",
        "    layers.LSTM(hidden_dim),\n",
        "\n",
        "    # Capa de salida\n",
        "    layers.Dense(1, activation='sigmoid')\n",
        "])\n"
      ],
      "metadata": {
        "colab": {
          "base_uri": "https://localhost:8080/",
          "height": 356
        },
        "id": "MyrSOXsQcKSm",
        "outputId": "f0322dfe-6a5a-45f5-9b99-d410206a0730"
      },
      "execution_count": null,
      "outputs": [
        {
          "output_type": "error",
          "ename": "ValueError",
          "evalue": "Input 0 of layer \"lstm_44\" is incompatible with the layer: expected ndim=3, found ndim=2. Full shape received: (None, 7)",
          "traceback": [
            "\u001b[0;31m---------------------------------------------------------------------------\u001b[0m",
            "\u001b[0;31mValueError\u001b[0m                                Traceback (most recent call last)",
            "\u001b[0;32m<ipython-input-156-c0540077e01b>\u001b[0m in \u001b[0;36m<cell line: 1>\u001b[0;34m()\u001b[0m\n\u001b[0;32m----> 1\u001b[0;31m model = tf.keras.Sequential([\n\u001b[0m\u001b[1;32m      2\u001b[0m     \u001b[0;31m# Capa de entrada\u001b[0m\u001b[0;34m\u001b[0m\u001b[0;34m\u001b[0m\u001b[0m\n\u001b[1;32m      3\u001b[0m     \u001b[0mlayers\u001b[0m\u001b[0;34m.\u001b[0m\u001b[0mInput\u001b[0m\u001b[0;34m(\u001b[0m\u001b[0mshape\u001b[0m\u001b[0;34m=\u001b[0m\u001b[0;34m(\u001b[0m\u001b[0;36m7\u001b[0m\u001b[0;34m,\u001b[0m\u001b[0;34m)\u001b[0m\u001b[0;34m)\u001b[0m\u001b[0;34m,\u001b[0m\u001b[0;34m\u001b[0m\u001b[0;34m\u001b[0m\u001b[0m\n\u001b[1;32m      4\u001b[0m \u001b[0;34m\u001b[0m\u001b[0m\n\u001b[1;32m      5\u001b[0m     \u001b[0;31m# Capas recurrentes\u001b[0m\u001b[0;34m\u001b[0m\u001b[0;34m\u001b[0m\u001b[0m\n",
            "\u001b[0;32m/usr/local/lib/python3.10/dist-packages/tensorflow/python/trackable/base.py\u001b[0m in \u001b[0;36m_method_wrapper\u001b[0;34m(self, *args, **kwargs)\u001b[0m\n\u001b[1;32m    202\u001b[0m     \u001b[0mself\u001b[0m\u001b[0;34m.\u001b[0m\u001b[0m_self_setattr_tracking\u001b[0m \u001b[0;34m=\u001b[0m \u001b[0;32mFalse\u001b[0m  \u001b[0;31m# pylint: disable=protected-access\u001b[0m\u001b[0;34m\u001b[0m\u001b[0;34m\u001b[0m\u001b[0m\n\u001b[1;32m    203\u001b[0m     \u001b[0;32mtry\u001b[0m\u001b[0;34m:\u001b[0m\u001b[0;34m\u001b[0m\u001b[0;34m\u001b[0m\u001b[0m\n\u001b[0;32m--> 204\u001b[0;31m       \u001b[0mresult\u001b[0m \u001b[0;34m=\u001b[0m \u001b[0mmethod\u001b[0m\u001b[0;34m(\u001b[0m\u001b[0mself\u001b[0m\u001b[0;34m,\u001b[0m \u001b[0;34m*\u001b[0m\u001b[0margs\u001b[0m\u001b[0;34m,\u001b[0m \u001b[0;34m**\u001b[0m\u001b[0mkwargs\u001b[0m\u001b[0;34m)\u001b[0m\u001b[0;34m\u001b[0m\u001b[0;34m\u001b[0m\u001b[0m\n\u001b[0m\u001b[1;32m    205\u001b[0m     \u001b[0;32mfinally\u001b[0m\u001b[0;34m:\u001b[0m\u001b[0;34m\u001b[0m\u001b[0;34m\u001b[0m\u001b[0m\n\u001b[1;32m    206\u001b[0m       \u001b[0mself\u001b[0m\u001b[0;34m.\u001b[0m\u001b[0m_self_setattr_tracking\u001b[0m \u001b[0;34m=\u001b[0m \u001b[0mprevious_value\u001b[0m  \u001b[0;31m# pylint: disable=protected-access\u001b[0m\u001b[0;34m\u001b[0m\u001b[0;34m\u001b[0m\u001b[0m\n",
            "\u001b[0;32m/usr/local/lib/python3.10/dist-packages/keras/src/utils/traceback_utils.py\u001b[0m in \u001b[0;36merror_handler\u001b[0;34m(*args, **kwargs)\u001b[0m\n\u001b[1;32m     68\u001b[0m             \u001b[0;31m# To get the full stack trace, call:\u001b[0m\u001b[0;34m\u001b[0m\u001b[0;34m\u001b[0m\u001b[0m\n\u001b[1;32m     69\u001b[0m             \u001b[0;31m# `tf.debugging.disable_traceback_filtering()`\u001b[0m\u001b[0;34m\u001b[0m\u001b[0;34m\u001b[0m\u001b[0m\n\u001b[0;32m---> 70\u001b[0;31m             \u001b[0;32mraise\u001b[0m \u001b[0me\u001b[0m\u001b[0;34m.\u001b[0m\u001b[0mwith_traceback\u001b[0m\u001b[0;34m(\u001b[0m\u001b[0mfiltered_tb\u001b[0m\u001b[0;34m)\u001b[0m \u001b[0;32mfrom\u001b[0m \u001b[0;32mNone\u001b[0m\u001b[0;34m\u001b[0m\u001b[0;34m\u001b[0m\u001b[0m\n\u001b[0m\u001b[1;32m     71\u001b[0m         \u001b[0;32mfinally\u001b[0m\u001b[0;34m:\u001b[0m\u001b[0;34m\u001b[0m\u001b[0;34m\u001b[0m\u001b[0m\n\u001b[1;32m     72\u001b[0m             \u001b[0;32mdel\u001b[0m \u001b[0mfiltered_tb\u001b[0m\u001b[0;34m\u001b[0m\u001b[0;34m\u001b[0m\u001b[0m\n",
            "\u001b[0;32m/usr/local/lib/python3.10/dist-packages/keras/src/engine/input_spec.py\u001b[0m in \u001b[0;36massert_input_compatibility\u001b[0;34m(input_spec, inputs, layer_name)\u001b[0m\n\u001b[1;32m    233\u001b[0m             \u001b[0mndim\u001b[0m \u001b[0;34m=\u001b[0m \u001b[0mshape\u001b[0m\u001b[0;34m.\u001b[0m\u001b[0mrank\u001b[0m\u001b[0;34m\u001b[0m\u001b[0;34m\u001b[0m\u001b[0m\n\u001b[1;32m    234\u001b[0m             \u001b[0;32mif\u001b[0m \u001b[0mndim\u001b[0m \u001b[0;34m!=\u001b[0m \u001b[0mspec\u001b[0m\u001b[0;34m.\u001b[0m\u001b[0mndim\u001b[0m\u001b[0;34m:\u001b[0m\u001b[0;34m\u001b[0m\u001b[0;34m\u001b[0m\u001b[0m\n\u001b[0;32m--> 235\u001b[0;31m                 raise ValueError(\n\u001b[0m\u001b[1;32m    236\u001b[0m                     \u001b[0;34mf'Input {input_index} of layer \"{layer_name}\" '\u001b[0m\u001b[0;34m\u001b[0m\u001b[0;34m\u001b[0m\u001b[0m\n\u001b[1;32m    237\u001b[0m                     \u001b[0;34m\"is incompatible with the layer: \"\u001b[0m\u001b[0;34m\u001b[0m\u001b[0;34m\u001b[0m\u001b[0m\n",
            "\u001b[0;31mValueError\u001b[0m: Input 0 of layer \"lstm_44\" is incompatible with the layer: expected ndim=3, found ndim=2. Full shape received: (None, 7)"
          ]
        }
      ]
    },
    {
      "cell_type": "code",
      "source": [
        "model.compile(loss='mean_squared_error', optimizer='adam')\n",
        "model.fit(X_train, y_train, epochs=3, batch_size=1, verbose=2)"
      ],
      "metadata": {
        "colab": {
          "base_uri": "https://localhost:8080/"
        },
        "id": "GzOAIMoTRJ6d",
        "outputId": "fe745b12-5209-4ae3-e6f8-00c0b50f4f7c"
      },
      "execution_count": null,
      "outputs": [
        {
          "output_type": "stream",
          "name": "stdout",
          "text": [
            "Epoch 1/3\n",
            "4000/4000 - 43s - loss: 0.0056 - 43s/epoch - 11ms/step\n",
            "Epoch 2/3\n",
            "4000/4000 - 32s - loss: 0.0047 - 32s/epoch - 8ms/step\n",
            "Epoch 3/3\n",
            "4000/4000 - 33s - loss: 0.0047 - 33s/epoch - 8ms/step\n"
          ]
        },
        {
          "output_type": "execute_result",
          "data": {
            "text/plain": [
              "<keras.src.callbacks.History at 0x7845b01eabf0>"
            ]
          },
          "metadata": {},
          "execution_count": 151
        }
      ]
    },
    {
      "cell_type": "code",
      "source": [
        "model.evaluate(X_test_pca, y_test)"
      ],
      "metadata": {
        "colab": {
          "base_uri": "https://localhost:8080/"
        },
        "id": "FiE6bIz-RNlN",
        "outputId": "44110f84-3300-467c-a0d0-dcd3db6575b6"
      },
      "execution_count": null,
      "outputs": [
        {
          "output_type": "stream",
          "name": "stdout",
          "text": [
            "38/38 [==============================] - 1s 3ms/step - loss: 0.3555\n"
          ]
        },
        {
          "output_type": "execute_result",
          "data": {
            "text/plain": [
              "0.3554871380329132"
            ]
          },
          "metadata": {},
          "execution_count": 75
        }
      ]
    },
    {
      "cell_type": "code",
      "source": [
        "y_pred = model.predict(X_test_pca)\n",
        "y_pred_bin = np.round(y_pred)\n",
        "\n",
        "accuracy = accuracy_score(y_test, y_pred_bin)\n",
        "recall = recall_score(y_test, y_pred_bin)\n",
        "precision = precision_score(y_test, y_pred_bin)\n",
        "\n",
        "print(\"Acierto:\", accuracy)\n",
        "print(\"Recuerdo:\", recall)\n",
        "print(\"Precisión:\", precision)"
      ],
      "metadata": {
        "colab": {
          "base_uri": "https://localhost:8080/"
        },
        "id": "RnO0L3JcRPcO",
        "outputId": "afc35820-1727-4e43-bac9-67c965d8a635"
      },
      "execution_count": null,
      "outputs": [
        {
          "output_type": "stream",
          "name": "stdout",
          "text": [
            "38/38 [==============================] - 1s 4ms/step\n",
            "Acierto: 0.20166666666666666\n",
            "Recuerdo: 0.0\n",
            "Precisión: 0.0\n"
          ]
        }
      ]
    },
    {
      "cell_type": "code",
      "source": [
        "confusion_matrix = metrics.confusion_matrix(y_test, y_pred_bin)\n",
        "\n",
        "cm_display = metrics.ConfusionMatrixDisplay(confusion_matrix = confusion_matrix, display_labels = [0, 1])\n",
        "\n",
        "cm_display.plot()\n",
        "plt.show()"
      ],
      "metadata": {
        "id": "8XhO_bAZ3U0U",
        "outputId": "27f7ce76-c3d4-453a-ec65-ab0ddcf77d30",
        "colab": {
          "base_uri": "https://localhost:8080/",
          "height": 449
        }
      },
      "execution_count": null,
      "outputs": [
        {
          "output_type": "display_data",
          "data": {
            "text/plain": [
              "<Figure size 640x480 with 2 Axes>"
            ],
            "image/png": "[encoded data removed]"
          },
          "metadata": {}
        }
      ]
    },
    {
      "cell_type": "markdown",
      "source": [
        "# CNN con ataques binarios"
      ],
      "metadata": {
        "id": "1OHe0-5IbfnS"
      }
    },
    {
      "cell_type": "code",
      "source": [
        "df = pd.read_csv(\"S1_balanced.csv\")\n",
        "\n",
        "df[\"TCP count\"] = df[\"Count tcp W=15.0s\"]\n",
        "df[\"Syn flag\"] = df[\"Count tcp.flags.syn == 1 W=15.0s In\"]\n",
        "df[\"Reset flag\"] = df[\"Count tcp.flags.reset == 1 W=15.0s\"]\n",
        "df[\"Avg frame len\"] = df[\"Average frame.len W=15.0s\"]\n",
        "df[\"Distinct port\"] = df[\"Distinct tcp.srcport W=15.0s In\"]\n",
        "df[\"Percent ssh\"] = df[\"Percent ssh W=15.0s\"]\n",
        "df.drop([\"Count tcp.flags.syn == 1 W=15.0s In\", \"Count tcp.flags.reset == 1 W=15.0s\",\n",
        "         \"Average frame.len W=15.0s\", \"Distinct tcp.srcport W=15.0s In\", \"Percent ssh W=15.0s\", \"Count tcp W=15.0s\", \"Index\", \"Time\", \"Reset flag\"], axis=1, inplace=True)\n",
        "\n",
        "df.info()"
      ],
      "metadata": {
        "id": "_9kB8SM8bfCA",
        "colab": {
          "base_uri": "https://localhost:8080/"
        },
        "outputId": "68e6f948-d640-4e88-ff04-5c64bcfb78b6"
      },
      "execution_count": null,
      "outputs": [
        {
          "output_type": "stream",
          "name": "stdout",
          "text": [
            "<class 'pandas.core.frame.DataFrame'>\n",
            "RangeIndex: 319440 entries, 0 to 319439\n",
            "Data columns (total 7 columns):\n",
            " #   Column         Non-Null Count   Dtype  \n",
            "---  ------         --------------   -----  \n",
            " 0   Attacks        5324 non-null    float64\n",
            " 1   Power          319440 non-null  float64\n",
            " 2   TCP count      319440 non-null  float64\n",
            " 3   Syn flag       319440 non-null  float64\n",
            " 4   Avg frame len  277495 non-null  float64\n",
            " 5   Distinct port  319440 non-null  float64\n",
            " 6   Percent ssh    277495 non-null  float64\n",
            "dtypes: float64(7)\n",
            "memory usage: 17.1 MB\n"
          ]
        }
      ]
    },
    {
      "cell_type": "code",
      "source": [
        "df[\"Attacks\"] = df[\"Attacks\"].fillna(0)\n",
        "df[\"Attacks\"] = df[\"Attacks\"].apply(lambda x: 1 if x > 0 else x)"
      ],
      "metadata": {
        "id": "k4Fdz_qNbqqb"
      },
      "execution_count": null,
      "outputs": []
    },
    {
      "cell_type": "code",
      "source": [
        "df = df.dropna()\n",
        "df.info()"
      ],
      "metadata": {
        "id": "bXZdhgcDbw6J",
        "colab": {
          "base_uri": "https://localhost:8080/"
        },
        "outputId": "91139a90-6286-443d-a0fc-432d777c3c87"
      },
      "execution_count": null,
      "outputs": [
        {
          "output_type": "stream",
          "name": "stdout",
          "text": [
            "<class 'pandas.core.frame.DataFrame'>\n",
            "Index: 277495 entries, 4 to 319439\n",
            "Data columns (total 7 columns):\n",
            " #   Column         Non-Null Count   Dtype  \n",
            "---  ------         --------------   -----  \n",
            " 0   Attacks        277495 non-null  float64\n",
            " 1   Power          277495 non-null  float64\n",
            " 2   TCP count      277495 non-null  float64\n",
            " 3   Syn flag       277495 non-null  float64\n",
            " 4   Avg frame len  277495 non-null  float64\n",
            " 5   Distinct port  277495 non-null  float64\n",
            " 6   Percent ssh    277495 non-null  float64\n",
            "dtypes: float64(7)\n",
            "memory usage: 16.9 MB\n"
          ]
        }
      ]
    },
    {
      "cell_type": "code",
      "source": [
        "df_c = df.head(8000)\n",
        "df_c.info()"
      ],
      "metadata": {
        "id": "n3m0hUH6b0DO",
        "colab": {
          "base_uri": "https://localhost:8080/"
        },
        "outputId": "99de51c4-0c53-4280-b8c8-7f57876e9d37"
      },
      "execution_count": null,
      "outputs": [
        {
          "output_type": "stream",
          "name": "stdout",
          "text": [
            "<class 'pandas.core.frame.DataFrame'>\n",
            "Index: 8000 entries, 4 to 9412\n",
            "Data columns (total 7 columns):\n",
            " #   Column         Non-Null Count  Dtype  \n",
            "---  ------         --------------  -----  \n",
            " 0   Attacks        8000 non-null   float64\n",
            " 1   Power          8000 non-null   float64\n",
            " 2   TCP count      8000 non-null   float64\n",
            " 3   Syn flag       8000 non-null   float64\n",
            " 4   Avg frame len  8000 non-null   float64\n",
            " 5   Distinct port  8000 non-null   float64\n",
            " 6   Percent ssh    8000 non-null   float64\n",
            "dtypes: float64(7)\n",
            "memory usage: 500.0 KB\n"
          ]
        }
      ]
    },
    {
      "cell_type": "code",
      "source": [
        "X = df_c\n",
        "y = X[\"Attacks\"]\n",
        "X.drop([\"Attacks\"], axis=1, inplace=True)"
      ],
      "metadata": {
        "id": "NcgITSu4b3AB",
        "colab": {
          "base_uri": "https://localhost:8080/"
        },
        "outputId": "a2952bfc-bc63-42e3-eebc-1a87bb15a7d9"
      },
      "execution_count": null,
      "outputs": [
        {
          "output_type": "stream",
          "name": "stderr",
          "text": [
            "<ipython-input-97-365a858a89e7>:3: SettingWithCopyWarning: \n",
            "A value is trying to be set on a copy of a slice from a DataFrame\n",
            "\n",
            "See the caveats in the documentation: https://pandas.pydata.org/pandas-docs/stable/user_guide/indexing.html#returning-a-view-versus-a-copy\n",
            "  X.drop([\"Attacks\"], axis=1, inplace=True)\n"
          ]
        }
      ]
    },
    {
      "cell_type": "code",
      "source": [
        "X_train, X_test, y_train, y_test = train_test_split(X, y, test_size=0.2, random_state=42)"
      ],
      "metadata": {
        "id": "UA_ryA1Ab6WU"
      },
      "execution_count": null,
      "outputs": []
    },
    {
      "cell_type": "code",
      "source": [
        "from sklearn.preprocessing import MinMaxScaler\n",
        "\n",
        "scaler = MinMaxScaler(feature_range=(0,1))\n",
        "X_train = scaler.fit_transform(X_train)"
      ],
      "metadata": {
        "id": "T-s9SoPnb-ah"
      },
      "execution_count": null,
      "outputs": []
    },
    {
      "cell_type": "code",
      "source": [
        "from keras.layers import Conv1D, MaxPooling1D\n",
        "from keras.layers import Dense, LSTM, RepeatVector, TimeDistributed, Flatten"
      ],
      "metadata": {
        "id": "s-mB-yOecT2x"
      },
      "execution_count": null,
      "outputs": []
    },
    {
      "cell_type": "code",
      "source": [
        "X_train.shape"
      ],
      "metadata": {
        "id": "CDYOap0fcaip",
        "colab": {
          "base_uri": "https://localhost:8080/"
        },
        "outputId": "3001ae40-83a0-4374-8b98-f6ae09a0e510"
      },
      "execution_count": null,
      "outputs": [
        {
          "output_type": "execute_result",
          "data": {
            "text/plain": [
              "(6400, 6)"
            ]
          },
          "metadata": {},
          "execution_count": 102
        }
      ]
    },
    {
      "cell_type": "code",
      "source": [
        "model_cnn = Sequential()\n",
        "model_cnn.add(Conv1D(filters=64, kernel_size=2, activation='relu', input_shape=(X_train.shape[1], 1)))\n",
        "model_cnn.add(MaxPooling1D(pool_size=2))\n",
        "model_cnn.add(Flatten())\n",
        "model_cnn.add(Dense(50, activation='relu'))\n",
        "model_cnn.add(Dense(1))\n",
        "model_cnn.compile(loss='mse', optimizer='adam')\n",
        "model_cnn.summary()"
      ],
      "metadata": {
        "id": "3RzIBLl5cED7",
        "colab": {
          "base_uri": "https://localhost:8080/"
        },
        "outputId": "e57a7905-8970-40ea-e980-36962a1d6806"
      },
      "execution_count": null,
      "outputs": [
        {
          "output_type": "stream",
          "name": "stdout",
          "text": [
            "Model: \"sequential_9\"\n",
            "_________________________________________________________________\n",
            " Layer (type)                Output Shape              Param #   \n",
            "=================================================================\n",
            " conv1d_1 (Conv1D)           (None, 5, 64)             192       \n",
            "                                                                 \n",
            " max_pooling1d_1 (MaxPoolin  (None, 2, 64)             0         \n",
            " g1D)                                                            \n",
            "                                                                 \n",
            " flatten_1 (Flatten)         (None, 128)               0         \n",
            "                                                                 \n",
            " dense_9 (Dense)             (None, 50)                6450      \n",
            "                                                                 \n",
            " dense_10 (Dense)            (None, 1)                 51        \n",
            "                                                                 \n",
            "=================================================================\n",
            "Total params: 6693 (26.14 KB)\n",
            "Trainable params: 6693 (26.14 KB)\n",
            "Non-trainable params: 0 (0.00 Byte)\n",
            "_________________________________________________________________\n"
          ]
        }
      ]
    },
    {
      "cell_type": "code",
      "source": [
        "model_cnn.fit(X_train, y_train, validation_data=(X_test, y_test), epochs=30, verbose=2)"
      ],
      "metadata": {
        "id": "OcrB-H9OcGzf"
      },
      "execution_count": null,
      "outputs": []
    },
    {
      "cell_type": "code",
      "source": [
        "model_cnn.evaluate(X_test, y_test)"
      ],
      "metadata": {
        "colab": {
          "base_uri": "https://localhost:8080/"
        },
        "id": "mvPcyogWdjp5",
        "outputId": "59e10740-3fc6-4322-9ae1-5c7705603011"
      },
      "execution_count": null,
      "outputs": [
        {
          "output_type": "stream",
          "name": "stdout",
          "text": [
            "50/50 [==============================] - 0s 4ms/step - loss: 55.4601\n"
          ]
        },
        {
          "output_type": "execute_result",
          "data": {
            "text/plain": [
              "55.460121154785156"
            ]
          },
          "metadata": {},
          "execution_count": 109
        }
      ]
    },
    {
      "cell_type": "code",
      "source": [
        "y_pred = model.predict(X_test)\n",
        "y_pred_bin = np.round(y_pred)\n",
        "\n",
        "accuracy = accuracy_score(y_test, y_pred_bin)\n",
        "recall = recall_score(y_test, y_pred_bin)\n",
        "precision = precision_score(y_test, y_pred_bin)\n",
        "\n",
        "print(\"Acierto:\", accuracy)\n",
        "print(\"Recuerdo:\", recall)\n",
        "print(\"Precisión:\", precision)"
      ],
      "metadata": {
        "colab": {
          "base_uri": "https://localhost:8080/"
        },
        "id": "SSeHkp2Odxp5",
        "outputId": "ae845c73-8a8f-4736-fc77-122d1b21e902"
      },
      "execution_count": null,
      "outputs": [
        {
          "output_type": "stream",
          "name": "stdout",
          "text": [
            "50/50 [==============================] - 59s 3ms/step\n",
            "Acierto: 0.9975\n",
            "Recuerdo: 0.0\n",
            "Precisión: 0.0\n"
          ]
        },
        {
          "output_type": "stream",
          "name": "stderr",
          "text": [
            "/usr/local/lib/python3.10/dist-packages/sklearn/metrics/_classification.py:1344: UndefinedMetricWarning: Precision is ill-defined and being set to 0.0 due to no predicted samples. Use `zero_division` parameter to control this behavior.\n",
            "  _warn_prf(average, modifier, msg_start, len(result))\n"
          ]
        }
      ]
    },
    {
      "cell_type": "code",
      "source": [
        "confusion_matrix = metrics.confusion_matrix(y_test, y_pred_bin)\n",
        "\n",
        "cm_display = metrics.ConfusionMatrixDisplay(confusion_matrix = confusion_matrix, display_labels = [0, 1])\n",
        "\n",
        "cm_display.plot()\n",
        "plt.show()"
      ],
      "metadata": {
        "colab": {
          "base_uri": "https://localhost:8080/",
          "height": 449
        },
        "id": "BN57pEijd7Ux",
        "outputId": "6896ca53-39a8-49c2-a517-787e56b0e905"
      },
      "execution_count": null,
      "outputs": [
        {
          "output_type": "display_data",
          "data": {
            "text/plain": [
              "<Figure size 640x480 with 2 Axes>"
            ],
            "image/png": "[encoded data removed]"
          },
          "metadata": {}
        }
      ]
    }
  ]
}